{
  "nbformat": 4,
  "nbformat_minor": 0,
  "metadata": {
    "colab": {
      "name": "Encoding model with sequential model_covid.ipynb",
      "provenance": [],
      "collapsed_sections": []
    },
    "kernelspec": {
      "name": "python3",
      "display_name": "Python 3"
    },
    "accelerator": "GPU"
  },
  "cells": [
    {
      "cell_type": "code",
      "metadata": {
        "id": "hpOH1ljkCOb7",
        "colab_type": "code",
        "outputId": "e1011d96-5986-43e3-f79d-e75b9921f31a",
        "colab": {
          "base_uri": "https://localhost:8080/",
          "height": 121
        }
      },
      "source": [
        "from google.colab import drive\n",
        "drive.mount('/content/gdrive')"
      ],
      "execution_count": 0,
      "outputs": [
        {
          "output_type": "stream",
          "text": [
            "Go to this URL in a browser: https://accounts.google.com/o/oauth2/auth?client_id=947318989803-6bn6qk8qdgf4n4g3pfee6491hc0brc4i.apps.googleusercontent.com&redirect_uri=urn%3aietf%3awg%3aoauth%3a2.0%3aoob&response_type=code&scope=email%20https%3a%2f%2fwww.googleapis.com%2fauth%2fdocs.test%20https%3a%2f%2fwww.googleapis.com%2fauth%2fdrive%20https%3a%2f%2fwww.googleapis.com%2fauth%2fdrive.photos.readonly%20https%3a%2f%2fwww.googleapis.com%2fauth%2fpeopleapi.readonly\n",
            "\n",
            "Enter your authorization code:\n",
            "··········\n",
            "Mounted at /content/gdrive\n"
          ],
          "name": "stdout"
        }
      ]
    },
    {
      "cell_type": "code",
      "metadata": {
        "id": "Yx7RxGKKFSOy",
        "colab_type": "code",
        "outputId": "754573f8-434b-4892-a814-7ea0086c7b8a",
        "colab": {
          "base_uri": "https://localhost:8080/",
          "height": 34
        }
      },
      "source": [
        "from tensorflow.keras.datasets import mnist\n",
        "from tensorflow.keras.layers import Dense, Conv2D, MaxPooling2D,UpSampling2D,Input, Flatten,\\\n",
        "                                    Reshape, LeakyReLU as LR,\\\n",
        "                                    Activation, Dropout\n",
        "from tensorflow.keras.models import Model, Sequential\n",
        "from matplotlib import pyplot as plt\n",
        "import numpy as np\n",
        "\n",
        "import os\n",
        "import random\n",
        "import pickle\n",
        "import matplotlib.pyplot as plt\n",
        "import cv2\n",
        "from tensorflow.keras.preprocessing.image import ImageDataGenerator\n",
        "\n",
        "\n",
        "print(os.listdir(\"/content/gdrive/My Drive/covid-chestxray-dataset-master/covid-chestxray-dataset-master/data\"))"
      ],
      "execution_count": 0,
      "outputs": [
        {
          "output_type": "stream",
          "text": [
            "['covid', 'non_covid']\n"
          ],
          "name": "stdout"
        }
      ]
    },
    {
      "cell_type": "code",
      "metadata": {
        "id": "oFBkPFFxFSRg",
        "colab_type": "code",
        "colab": {}
      },
      "source": [
        "IMG_SIZE = 128"
      ],
      "execution_count": 0,
      "outputs": []
    },
    {
      "cell_type": "code",
      "metadata": {
        "id": "sZZw0BsVFSUR",
        "colab_type": "code",
        "colab": {}
      },
      "source": [
        "CATEGORIES = ['covid', 'non_covid']\n",
        "dataset = []\n",
        "\n",
        "def generate_data():\n",
        "    for category in CATEGORIES:\n",
        "        path = f'/content/gdrive/My Drive/covid-chestxray-dataset-master/covid-chestxray-dataset-master/data/{category}'\n",
        "        class_id = CATEGORIES.index(category)\n",
        "        for image in os.listdir(path):\n",
        "            try:\n",
        "                image_array = cv2.imread(os.path.join(path, image), cv2.IMREAD_COLOR)\n",
        "                image_array = cv2.resize(image_array, (IMG_SIZE,IMG_SIZE))\n",
        "                dataset.append([image_array, class_id])\n",
        "            except Exception as e:\n",
        "                print(e)\n",
        "    random.shuffle(dataset)\n",
        "                \n",
        "generate_data()"
      ],
      "execution_count": 0,
      "outputs": []
    },
    {
      "cell_type": "code",
      "metadata": {
        "id": "7So3C-oFFSW-",
        "colab_type": "code",
        "outputId": "215ad0e4-9322-41c9-8a1b-8768811f8e16",
        "colab": {
          "base_uri": "https://localhost:8080/",
          "height": 34
        }
      },
      "source": [
        "print(len(dataset))"
      ],
      "execution_count": 0,
      "outputs": [
        {
          "output_type": "stream",
          "text": [
            "162\n"
          ],
          "name": "stdout"
        }
      ]
    },
    {
      "cell_type": "code",
      "metadata": {
        "id": "aaxSXyCzFSZj",
        "colab_type": "code",
        "colab": {}
      },
      "source": [
        "data = []\n",
        "labels = []\n",
        "for features, label in dataset:\n",
        "    data.append(features)\n",
        "    labels.append(label)"
      ],
      "execution_count": 0,
      "outputs": []
    },
    {
      "cell_type": "code",
      "metadata": {
        "id": "5GzrubkAFScc",
        "colab_type": "code",
        "colab": {}
      },
      "source": [
        "import tensorflow as tf\n",
        "data = np.array(data)\n",
        "data.reshape(-1,128,3)"
      ],
      "execution_count": 0,
      "outputs": []
    },
    {
      "cell_type": "code",
      "metadata": {
        "id": "A9xv_995FSfL",
        "colab_type": "code",
        "colab": {}
      },
      "source": [
        "from sklearn.model_selection import train_test_split\n",
        "data = data/255\n",
        "train_x,data,train_y,labels =train_test_split(data,labels,test_size=0.5)\n",
        "test_data, validation_data, test_labels, validation_labels = train_test_split(data, \n",
        "                                                                    labels,\n",
        "                                                                   test_size=0.5)"
      ],
      "execution_count": 0,
      "outputs": []
    },
    {
      "cell_type": "code",
      "metadata": {
        "id": "KnhPwy3wLIuk",
        "colab_type": "code",
        "outputId": "0b8714b1-b48e-4b8a-f38f-0085e5e49973",
        "colab": {
          "base_uri": "https://localhost:8080/",
          "height": 34
        }
      },
      "source": [
        "#train_x = train_x/ 255\n",
        "#train_x.resize(142,128,128,3)\n",
        "#train_x.shape\n",
        "#data.shape\n",
        "#data.shape\n",
        "#validation_data.shape\n",
        "print(len(train_x))\n",
        "print(len())"
      ],
      "execution_count": 0,
      "outputs": [
        {
          "output_type": "execute_result",
          "data": {
            "text/plain": [
              "(81, 128, 128, 3)"
            ]
          },
          "metadata": {
            "tags": []
          },
          "execution_count": 10
        }
      ]
    },
    {
      "cell_type": "code",
      "metadata": {
        "id": "4Bv3970xLIxO",
        "colab_type": "code",
        "colab": {}
      },
      "source": [
        "input_layer=Input(shape= (128,128,3))"
      ],
      "execution_count": 0,
      "outputs": []
    },
    {
      "cell_type": "code",
      "metadata": {
        "id": "zQO9bGIgLIzy",
        "colab_type": "code",
        "outputId": "4ba13ad3-70e5-4f62-963f-5d1aed934ce8",
        "colab": {
          "base_uri": "https://localhost:8080/",
          "height": 319
        }
      },
      "source": [
        "#encoder part\n",
        "encode_layer1 = Dense(1500, activation= 'relu')(input_layer)\n",
        "encode_layer2 = Dense(1000, activation= 'relu')(encode_layer1)\n",
        "encode_layer3 = Dense(500, activation= 'relu')(encode_layer2)\n",
        "output_1 = Dense(3)(encode_layer3)\n",
        "model1= Model(input_layer,output_1)\n",
        "model1.summary()"
      ],
      "execution_count": 0,
      "outputs": [
        {
          "output_type": "stream",
          "text": [
            "Model: \"model\"\n",
            "_________________________________________________________________\n",
            "Layer (type)                 Output Shape              Param #   \n",
            "=================================================================\n",
            "input_1 (InputLayer)         [(None, 128, 128, 3)]     0         \n",
            "_________________________________________________________________\n",
            "dense (Dense)                (None, 128, 128, 1500)    6000      \n",
            "_________________________________________________________________\n",
            "dense_1 (Dense)              (None, 128, 128, 1000)    1501000   \n",
            "_________________________________________________________________\n",
            "dense_2 (Dense)              (None, 128, 128, 500)     500500    \n",
            "_________________________________________________________________\n",
            "dense_3 (Dense)              (None, 128, 128, 3)       1503      \n",
            "=================================================================\n",
            "Total params: 2,009,003\n",
            "Trainable params: 2,009,003\n",
            "Non-trainable params: 0\n",
            "_________________________________________________________________\n"
          ],
          "name": "stdout"
        }
      ]
    },
    {
      "cell_type": "code",
      "metadata": {
        "id": "jIg9yIz1LI2Y",
        "colab_type": "code",
        "colab": {}
      },
      "source": [
        "model2 = Sequential([\n",
        "      \n",
        "       Dense(3, activation = 'relu', input_shape=(IMG_SIZE,IMG_SIZE,3)) ,\n",
        "       Dense(16,activation='relu'),\n",
        "       Dropout(0.2),\n",
        "       Dense(32, activation='relu'),\n",
        "       Dense(32, activation='sigmoid'),\n",
        "       Dropout(0.5),\n",
        "       Dense(3, activation='softmax')\n",
        "])\n"
      ],
      "execution_count": 0,
      "outputs": []
    },
    {
      "cell_type": "code",
      "metadata": {
        "id": "Es1AgooxLI44",
        "colab_type": "code",
        "colab": {}
      },
      "source": [
        "\n",
        "model2.compile(optimizer='ADAM', loss='binary_crossentropy')\n",
        "model2.add(BatchNormalization())"
      ],
      "execution_count": 0,
      "outputs": []
    },
    {
      "cell_type": "code",
      "metadata": {
        "id": "X-OOWmauLI7t",
        "colab_type": "code",
        "outputId": "8cb22a4c-f83d-48e9-d294-507c579b446a",
        "colab": {
          "base_uri": "https://localhost:8080/",
          "height": 504
        }
      },
      "source": [
        "model2.summary()\n",
        "print(output_1)"
      ],
      "execution_count": 0,
      "outputs": [
        {
          "output_type": "stream",
          "text": [
            "Model: \"sequential\"\n",
            "_________________________________________________________________\n",
            "Layer (type)                 Output Shape              Param #   \n",
            "=================================================================\n",
            "dense_4 (Dense)              (None, 128, 128, 3)       12        \n",
            "_________________________________________________________________\n",
            "dense_5 (Dense)              (None, 128, 128, 16)      64        \n",
            "_________________________________________________________________\n",
            "dropout (Dropout)            (None, 128, 128, 16)      0         \n",
            "_________________________________________________________________\n",
            "dense_6 (Dense)              (None, 128, 128, 32)      544       \n",
            "_________________________________________________________________\n",
            "dense_7 (Dense)              (None, 128, 128, 32)      1056      \n",
            "_________________________________________________________________\n",
            "dropout_1 (Dropout)          (None, 128, 128, 32)      0         \n",
            "_________________________________________________________________\n",
            "dense_8 (Dense)              (None, 128, 128, 3)       99        \n",
            "_________________________________________________________________\n",
            "batch_normalization (BatchNo (None, 128, 128, 3)       12        \n",
            "_________________________________________________________________\n",
            "batch_normalization_1 (Batch (None, 128, 128, 3)       12        \n",
            "_________________________________________________________________\n",
            "batch_normalization_2 (Batch (None, 128, 128, 3)       12        \n",
            "=================================================================\n",
            "Total params: 1,811\n",
            "Trainable params: 1,793\n",
            "Non-trainable params: 18\n",
            "_________________________________________________________________\n",
            "Tensor(\"dense_3/Identity:0\", shape=(None, 128, 128, 3), dtype=float32)\n"
          ],
          "name": "stdout"
        }
      ]
    },
    {
      "cell_type": "code",
      "metadata": {
        "id": "l5WU6z2zLI9w",
        "colab_type": "code",
        "outputId": "2c2d22a7-33e4-425d-fa52-6a7d64656f2d",
        "colab": {
          "base_uri": "https://localhost:8080/",
          "height": 50
        }
      },
      "source": [
        "from tensorflow.keras.layers import *\n",
        "print(output_1.shape)\n",
        "print(model2.output.shape)\n",
        "merged = concatenate([output_1,model2.output])"
      ],
      "execution_count": 0,
      "outputs": [
        {
          "output_type": "stream",
          "text": [
            "(None, 128, 128, 3)\n",
            "(None, 128, 128, 3)\n"
          ],
          "name": "stdout"
        }
      ]
    },
    {
      "cell_type": "code",
      "metadata": {
        "id": "Z1laS4YdLJAJ",
        "colab_type": "code",
        "colab": {}
      },
      "source": [
        "merged = Flatten()(merged)    \n",
        "#merged = Dense(256, activation='relu')(merged)\n",
        "#merged = Dropout(.5)(merged)\n",
        "merged = Dense(128, activation='relu')(merged)\n",
        "#merged = Dropout(.35)(merged)\n",
        "\n",
        "# output layer\n",
        "merged = Dense(5, activation='softmax')(merged)"
      ],
      "execution_count": 0,
      "outputs": []
    },
    {
      "cell_type": "code",
      "metadata": {
        "id": "RmDMkcWALJC6",
        "colab_type": "code",
        "colab": {}
      },
      "source": [
        "output = Dense(2, activation='softmax')(merged)\n"
      ],
      "execution_count": 0,
      "outputs": []
    },
    {
      "cell_type": "code",
      "metadata": {
        "id": "l0slOwEGLjJA",
        "colab_type": "code",
        "colab": {}
      },
      "source": [
        "newModel = Model([model1.input,model2.input],output)\n"
      ],
      "execution_count": 0,
      "outputs": []
    },
    {
      "cell_type": "code",
      "metadata": {
        "id": "0zTiEzcbLjRW",
        "colab_type": "code",
        "colab": {}
      },
      "source": [
        "\n",
        "newModel.compile(metrics=['accuracy'], loss='mse',optimizer ='adam')\n",
        "#newModel.compile(optimizer='adam', loss='mse',metrics=['accuracy'])\n",
        "\n",
        "\n",
        "newModel.summary()\n",
        "#early_stopping = EarlyStopping(monitor='val_loss',min_delta=0,patience=5,verbose=1, mode='auto')\n",
        "#history1 = newModel.fit([train_x,data],train_y,batch_size=batch_size,epochs=epochs,verbose=1)"
      ],
      "execution_count": 0,
      "outputs": []
    },
    {
      "cell_type": "code",
      "metadata": {
        "id": "0xU8a8CCLrvQ",
        "colab_type": "code",
        "outputId": "87bb5ad8-968c-4286-91c4-5cff156a8375",
        "colab": {
          "base_uri": "https://localhost:8080/",
          "height": 1000
        }
      },
      "source": [
        "batch_size = 16\n",
        "epochs =30\n",
        "#early_stopping = EarlyStopping(monitor='val_loss',min_delta=0,patience=5,verbose=1, mode='auto')\n",
        "history1 = newModel.fit([train_x,data],y=np.array(train_y),batch_size=batch_size,epochs=epochs,verbose=1,validation_split=0.1)\n",
        "#history1 = newModel.fit([train_x,data],train_y, batch_size=batch_size,epochs=epochs,validation_split=0.1)"
      ],
      "execution_count": 0,
      "outputs": [
        {
          "output_type": "stream",
          "text": [
            "Epoch 1/30\n",
            "5/5 [==============================] - 2s 465ms/step - loss: 0.2515 - accuracy: 0.4306 - val_loss: 0.2500 - val_accuracy: 1.0000\n",
            "Epoch 2/30\n",
            "5/5 [==============================] - 2s 407ms/step - loss: 0.2500 - accuracy: 0.8472 - val_loss: 0.2500 - val_accuracy: 1.0000\n",
            "Epoch 3/30\n",
            "5/5 [==============================] - 2s 408ms/step - loss: 0.2500 - accuracy: 0.8472 - val_loss: 0.2500 - val_accuracy: 1.0000\n",
            "Epoch 4/30\n",
            "5/5 [==============================] - 2s 409ms/step - loss: 0.2500 - accuracy: 0.8472 - val_loss: 0.2500 - val_accuracy: 1.0000\n",
            "Epoch 5/30\n",
            "5/5 [==============================] - 2s 407ms/step - loss: 0.2500 - accuracy: 0.8472 - val_loss: 0.2500 - val_accuracy: 1.0000\n",
            "Epoch 6/30\n",
            "5/5 [==============================] - 2s 409ms/step - loss: 0.2500 - accuracy: 0.5972 - val_loss: 0.2500 - val_accuracy: 0.0000e+00\n",
            "Epoch 7/30\n",
            "5/5 [==============================] - 3s 520ms/step - loss: 0.2500 - accuracy: 0.1528 - val_loss: 0.2500 - val_accuracy: 0.0000e+00\n",
            "Epoch 8/30\n",
            "5/5 [==============================] - 2s 408ms/step - loss: 0.2500 - accuracy: 0.1528 - val_loss: 0.2500 - val_accuracy: 0.0000e+00\n",
            "Epoch 9/30\n",
            "5/5 [==============================] - 2s 409ms/step - loss: 0.2500 - accuracy: 0.1528 - val_loss: 0.2500 - val_accuracy: 0.0000e+00\n",
            "Epoch 10/30\n",
            "5/5 [==============================] - 2s 408ms/step - loss: 0.2500 - accuracy: 0.1528 - val_loss: 0.2500 - val_accuracy: 0.0000e+00\n",
            "Epoch 11/30\n",
            "5/5 [==============================] - 2s 409ms/step - loss: 0.2500 - accuracy: 0.5972 - val_loss: 0.2500 - val_accuracy: 1.0000\n",
            "Epoch 12/30\n",
            "5/5 [==============================] - 2s 409ms/step - loss: 0.2500 - accuracy: 0.8472 - val_loss: 0.2500 - val_accuracy: 1.0000\n",
            "Epoch 13/30\n",
            "5/5 [==============================] - 2s 408ms/step - loss: 0.2500 - accuracy: 0.8472 - val_loss: 0.2500 - val_accuracy: 1.0000\n",
            "Epoch 14/30\n",
            "5/5 [==============================] - 2s 408ms/step - loss: 0.2500 - accuracy: 0.8472 - val_loss: 0.2500 - val_accuracy: 1.0000\n",
            "Epoch 15/30\n",
            "5/5 [==============================] - 2s 407ms/step - loss: 0.2500 - accuracy: 0.5694 - val_loss: 0.2500 - val_accuracy: 0.0000e+00\n",
            "Epoch 16/30\n",
            "5/5 [==============================] - 2s 409ms/step - loss: 0.2500 - accuracy: 0.1528 - val_loss: 0.2500 - val_accuracy: 0.0000e+00\n",
            "Epoch 17/30\n",
            "5/5 [==============================] - 2s 407ms/step - loss: 0.2500 - accuracy: 0.1528 - val_loss: 0.2500 - val_accuracy: 0.0000e+00\n",
            "Epoch 18/30\n",
            "5/5 [==============================] - 2s 408ms/step - loss: 0.2500 - accuracy: 0.1528 - val_loss: 0.2500 - val_accuracy: 0.0000e+00\n",
            "Epoch 19/30\n",
            "5/5 [==============================] - 2s 408ms/step - loss: 0.2500 - accuracy: 0.4028 - val_loss: 0.2500 - val_accuracy: 1.0000\n",
            "Epoch 20/30\n",
            "5/5 [==============================] - 2s 407ms/step - loss: 0.2500 - accuracy: 0.8472 - val_loss: 0.2500 - val_accuracy: 1.0000\n",
            "Epoch 21/30\n",
            "5/5 [==============================] - 2s 409ms/step - loss: 0.2500 - accuracy: 0.8472 - val_loss: 0.2500 - val_accuracy: 1.0000\n",
            "Epoch 22/30\n",
            "5/5 [==============================] - 2s 408ms/step - loss: 0.2500 - accuracy: 0.8472 - val_loss: 0.2500 - val_accuracy: 1.0000\n",
            "Epoch 23/30\n",
            "5/5 [==============================] - 2s 409ms/step - loss: 0.2500 - accuracy: 0.3194 - val_loss: 0.2500 - val_accuracy: 0.0000e+00\n",
            "Epoch 24/30\n",
            "5/5 [==============================] - 2s 409ms/step - loss: 0.2500 - accuracy: 0.1528 - val_loss: 0.2500 - val_accuracy: 0.0000e+00\n",
            "Epoch 25/30\n",
            "5/5 [==============================] - 2s 409ms/step - loss: 0.2500 - accuracy: 0.1528 - val_loss: 0.2500 - val_accuracy: 0.0000e+00\n",
            "Epoch 26/30\n",
            "5/5 [==============================] - 2s 407ms/step - loss: 0.2500 - accuracy: 0.2361 - val_loss: 0.2500 - val_accuracy: 1.0000\n",
            "Epoch 27/30\n",
            "5/5 [==============================] - 2s 409ms/step - loss: 0.2500 - accuracy: 0.8472 - val_loss: 0.2500 - val_accuracy: 1.0000\n",
            "Epoch 28/30\n",
            "5/5 [==============================] - 2s 407ms/step - loss: 0.2500 - accuracy: 0.8472 - val_loss: 0.2500 - val_accuracy: 1.0000\n",
            "Epoch 29/30\n",
            "5/5 [==============================] - 2s 408ms/step - loss: 0.2500 - accuracy: 0.8472 - val_loss: 0.2500 - val_accuracy: 1.0000\n",
            "Epoch 30/30\n",
            "5/5 [==============================] - 2s 408ms/step - loss: 0.2500 - accuracy: 0.2917 - val_loss: 0.2500 - val_accuracy: 0.0000e+00\n"
          ],
          "name": "stdout"
        }
      ]
    },
    {
      "cell_type": "code",
      "metadata": {
        "id": "XyP2em5gLryC",
        "colab_type": "code",
        "outputId": "f6ff7f3e-fa37-4c90-e15b-cb5bcb1c3a0d",
        "colab": {
          "base_uri": "https://localhost:8080/",
          "height": 84
        }
      },
      "source": [
        "accuracy = history1.history['accuracy']\n",
        "loss = history1.history['loss']\n",
        "val_accuracy = history1.history['val_accuracy']\n",
        "val_loss = history1.history['val_loss']\n",
        "\n",
        "print(f'Training Accuracy: {np.max(accuracy)}')\n",
        "print(f'Training Loss: {np.min(loss)}')\n",
        "print(f'Validation Accuracy: {np.max(val_accuracy)}')\n",
        "print(f'Validation Loss: {np.min(val_loss)}')"
      ],
      "execution_count": 0,
      "outputs": [
        {
          "output_type": "stream",
          "text": [
            "Training Accuracy: 0.8472222089767456\n",
            "Training Loss: 0.25\n",
            "Validation Accuracy: 1.0\n",
            "Validation Loss: 0.2499999701976776\n"
          ],
          "name": "stdout"
        }
      ]
    },
    {
      "cell_type": "code",
      "metadata": {
        "id": "Yf1f13f9Lr1H",
        "colab_type": "code",
        "outputId": "02f80449-882f-4ba6-b34c-8e32f4dc44a5",
        "colab": {
          "base_uri": "https://localhost:8080/",
          "height": 350
        }
      },
      "source": [
        "epochs_range = range(epochs)\n",
        "\n",
        "plt.figure(figsize=(15, 5))\n",
        "plt.subplot(1, 2, 1)\n",
        "plt.xlabel('epochs')\n",
        "plt.ylabel('Accuracy rate')\n",
        "plt.plot(epochs_range, accuracy, label=\"Training Accuracy\")\n",
        "plt.plot(epochs_range, val_accuracy, label=\"Validation Accuracy\")\n",
        "plt.legend(loc=\"lower right\")\n",
        "plt.title(\"Training and Validation Accuracy\")\n",
        "\n",
        "plt.subplot(1, 2, 2)\n",
        "plt.xlabel('epochs')\n",
        "plt.ylabel('loss rate')\n",
        "plt.plot(epochs_range, loss, label=\"Training Loss\")\n",
        "plt.plot(epochs_range, val_loss, label=\"Validation Loss\")\n",
        "plt.legend(loc=\"upper right\")\n",
        "plt.title(\"Training and Validation Loss\")\n",
        "plt.show()"
      ],
      "execution_count": 0,
      "outputs": [
        {
          "output_type": "display_data",
          "data": {
            "image/png": "[encoded data removed]",
            "text/plain": [
              "<Figure size 1080x360 with 2 Axes>"
            ]
          },
          "metadata": {
            "tags": []
          }
        }
      ]
    },
    {
      "cell_type": "code",
      "metadata": {
        "id": "xfqvy8zzLjWk",
        "colab_type": "code",
        "colab": {}
      },
      "source": [
        "class_names = ['cancer', 'normal']\n",
        "def plot_images(i, predictions_array, true_labels, images):\n",
        "    predictions_array, true_label, img = predictions_array[i], true_labels[i],images[i]\n",
        "    plt.grid(False)\n",
        "    plt.xticks([])\n",
        "    plt.yticks([])\n",
        "    \n",
        "    plt.imshow(img)\n",
        "    \n",
        "    predicted_label = np.argmax(predictions_array)\n",
        "        \n",
        "    plt.xlabel(\"{} {:2.0f}% ({})\".format(class_names[predicted_label],\n",
        "                                        100*np.max(predictions_array),\n",
        "                                        class_names[true_label]))"
      ],
      "execution_count": 0,
      "outputs": []
    },
    {
      "cell_type": "code",
      "metadata": {
        "id": "1goSQv15L5fC",
        "colab_type": "code",
        "colab": {}
      },
      "source": [
        "yPred = newModel.predict([test_data,test_data]).argmax( axis=-1 ) \n"
      ],
      "execution_count": 0,
      "outputs": []
    },
    {
      "cell_type": "code",
      "metadata": {
        "id": "VUMwrX1iL5h0",
        "colab_type": "code",
        "outputId": "b3e4849c-cbe2-4d1a-b1c4-2cc62f3af47c",
        "colab": {
          "base_uri": "https://localhost:8080/",
          "height": 67
        }
      },
      "source": [
        "print(len(yPred))\n",
        "#pred.resize(10,1)\n",
        "print ( yPred )"
      ],
      "execution_count": 0,
      "outputs": [
        {
          "output_type": "stream",
          "text": [
            "40\n",
            "[1 1 1 1 1 1 1 1 1 1 1 1 1 1 1 1 1 1 1 1 1 1 1 1 1 1 1 1 1 1 1 1 1 1 1 1 1\n",
            " 1 1 1]\n"
          ],
          "name": "stdout"
        }
      ]
    },
    {
      "cell_type": "code",
      "metadata": {
        "id": "6wVQhTryL_I8",
        "colab_type": "code",
        "outputId": "33523112-ec6d-4558-ecd8-29b8d615d5f7",
        "colab": {
          "base_uri": "https://localhost:8080/",
          "height": 34
        }
      },
      "source": [
        "from sklearn.metrics import precision_score\n",
        "print(\"Precision Score : \",precision_score(test_labels, yPred,\n",
        "                                           average='micro'))"
      ],
      "execution_count": 0,
      "outputs": [
        {
          "output_type": "stream",
          "text": [
            "Precision Score :  0.1\n"
          ],
          "name": "stdout"
        }
      ]
    },
    {
      "cell_type": "code",
      "metadata": {
        "id": "D7M2O-INL_L3",
        "colab_type": "code",
        "outputId": "41ddd3c5-4a2a-4ddc-fa45-6c0113e54ece",
        "colab": {
          "base_uri": "https://localhost:8080/",
          "height": 50
        }
      },
      "source": [
        "from sklearn.metrics import f1_score\n",
        "from sklearn import metrics\n",
        "from sklearn.metrics import plot_confusion_matrix\n",
        "\n",
        "print('F1_score : ',f1_score(test_labels,yPred))\n",
        "print('sensitibity : ',metrics.recall_score(test_labels, yPred))"
      ],
      "execution_count": 0,
      "outputs": [
        {
          "output_type": "stream",
          "text": [
            "F1_score :  0.18181818181818182\n",
            "sensitibity :  1.0\n"
          ],
          "name": "stdout"
        }
      ]
    },
    {
      "cell_type": "code",
      "metadata": {
        "id": "ryKzLxugL_Om",
        "colab_type": "code",
        "colab": {}
      },
      "source": [
        "def plot_roc_curve(fpr,tpr): \n",
        "  plt.plot(fpr,tpr) \n",
        "  plt.axis([0,1,0,1]) \n",
        "  plt.xlabel('False Positive Rate') \n",
        "  plt.ylabel('True Positive Rate') \n",
        "  plt.show() "
      ],
      "execution_count": 0,
      "outputs": []
    },
    {
      "cell_type": "code",
      "metadata": {
        "id": "LAQiCiHcMJ8Q",
        "colab_type": "code",
        "outputId": "a12daf5e-db76-4949-c39c-a53839f49b73",
        "colab": {
          "base_uri": "https://localhost:8080/",
          "height": 222
        }
      },
      "source": [
        "from sklearn.metrics import classification_report\n",
        "print(classification_report(test_labels, yPred))"
      ],
      "execution_count": 0,
      "outputs": [
        {
          "output_type": "stream",
          "text": [
            "              precision    recall  f1-score   support\n",
            "\n",
            "           0       0.00      0.00      0.00        36\n",
            "           1       0.10      1.00      0.18         4\n",
            "\n",
            "    accuracy                           0.10        40\n",
            "   macro avg       0.05      0.50      0.09        40\n",
            "weighted avg       0.01      0.10      0.02        40\n",
            "\n"
          ],
          "name": "stdout"
        },
        {
          "output_type": "stream",
          "text": [
            "/usr/local/lib/python3.6/dist-packages/sklearn/metrics/_classification.py:1272: UndefinedMetricWarning: Precision and F-score are ill-defined and being set to 0.0 in labels with no predicted samples. Use `zero_division` parameter to control this behavior.\n",
            "  _warn_prf(average, modifier, msg_start, len(result))\n"
          ],
          "name": "stderr"
        }
      ]
    },
    {
      "cell_type": "code",
      "metadata": {
        "id": "M0WtjNofMJ_A",
        "colab_type": "code",
        "outputId": "8b5c418b-084c-415a-bbec-444fdafdc339",
        "colab": {
          "base_uri": "https://localhost:8080/",
          "height": 350
        }
      },
      "source": [
        "from sklearn.metrics import roc_curve,roc_auc_score\n",
        "import matplotlib.pyplot as plt\n",
        "from sklearn.metrics import matthews_corrcoef\n",
        "\n",
        "fpr , tpr , thresholds = roc_curve (test_labels,yPred)\n",
        "plot_roc_curve (fpr,tpr)\n",
        "auc_score=roc_auc_score(test_labels,yPred) \n",
        "print(auc_score) \n",
        "print(matthews_corrcoef(test_labels,yPred))"
      ],
      "execution_count": 0,
      "outputs": [
        {
          "output_type": "display_data",
          "data": {
            "image/png": "[encoded data removed]",
            "text/plain": [
              "<Figure size 432x288 with 1 Axes>"
            ]
          },
          "metadata": {
            "tags": []
          }
        },
        {
          "output_type": "stream",
          "text": [
            "0.5\n",
            "0.0\n"
          ],
          "name": "stdout"
        },
        {
          "output_type": "stream",
          "text": [
            "/usr/local/lib/python3.6/dist-packages/sklearn/metrics/_classification.py:900: RuntimeWarning: invalid value encountered in double_scalars\n",
            "  mcc = cov_ytyp / np.sqrt(cov_ytyt * cov_ypyp)\n"
          ],
          "name": "stderr"
        }
      ]
    },
    {
      "cell_type": "code",
      "metadata": {
        "id": "3YlW_J8iMKBt",
        "colab_type": "code",
        "colab": {}
      },
      "source": [
        ""
      ],
      "execution_count": 0,
      "outputs": []
    },
    {
      "cell_type": "code",
      "metadata": {
        "id": "i9wNTWxBMKFQ",
        "colab_type": "code",
        "colab": {}
      },
      "source": [
        ""
      ],
      "execution_count": 0,
      "outputs": []
    }
  ]
}