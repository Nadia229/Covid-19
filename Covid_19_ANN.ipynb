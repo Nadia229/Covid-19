{
  "nbformat": 4,
  "nbformat_minor": 0,
  "metadata": {
    "colab": {
      "name": "Covid-19 ANN.ipynb",
      "provenance": [],
      "collapsed_sections": [],
      "toc_visible": true
    },
    "kernelspec": {
      "name": "python3",
      "display_name": "Python 3"
    },
    "accelerator": "TPU"
  },
  "cells": [
    {
      "cell_type": "code",
      "metadata": {
        "id": "8qiWSodOIKjk",
        "colab_type": "code",
        "outputId": "0d61b687-0e6a-40bd-df3c-3725e2326423",
        "colab": {
          "base_uri": "https://localhost:8080/",
          "height": 121
        }
      },
      "source": [
        "from google.colab import drive\n",
        "drive.mount('/content/gdrive')"
      ],
      "execution_count": 0,
      "outputs": [
        {
          "output_type": "stream",
          "text": [
            "Go to this URL in a browser: https://accounts.google.com/o/oauth2/auth?client_id=947318989803-6bn6qk8qdgf4n4g3pfee6491hc0brc4i.apps.googleusercontent.com&redirect_uri=urn%3aietf%3awg%3aoauth%3a2.0%3aoob&response_type=code&scope=email%20https%3a%2f%2fwww.googleapis.com%2fauth%2fdocs.test%20https%3a%2f%2fwww.googleapis.com%2fauth%2fdrive%20https%3a%2f%2fwww.googleapis.com%2fauth%2fdrive.photos.readonly%20https%3a%2f%2fwww.googleapis.com%2fauth%2fpeopleapi.readonly\n",
            "\n",
            "Enter your authorization code:\n",
            "··········\n",
            "Mounted at /content/gdrive\n"
          ],
          "name": "stdout"
        }
      ]
    },
    {
      "cell_type": "code",
      "metadata": {
        "id": "8ykmACXBIY60",
        "colab_type": "code",
        "outputId": "3b1251f8-ea32-4dfa-be01-4af987ea3b35",
        "colab": {
          "base_uri": "https://localhost:8080/",
          "height": 34
        }
      },
      "source": [
        "import numpy as np # linear algebra\n",
        "import cv2\n",
        "\n",
        "import os\n",
        "import random\n",
        "import pickle\n",
        "import matplotlib.pyplot as plt\n",
        "\n",
        "from sklearn.model_selection import train_test_split\n",
        "import tensorflow as tf\n",
        "from tensorflow.keras.layers import (\n",
        "    Conv2D, MaxPooling2D, \n",
        "    Dense, Dropout, \n",
        "    Flatten)\n",
        "from tensorflow.keras.models import Sequential\n",
        "from tensorflow.keras.preprocessing.image import ImageDataGenerator\n",
        "print(os.listdir(\"/content/gdrive/My Drive/covid-chestxray-dataset-master/covid-chestxray-dataset-master/data\"))"
      ],
      "execution_count": 0,
      "outputs": [
        {
          "output_type": "stream",
          "text": [
            "['covid', 'non_covid']\n"
          ],
          "name": "stdout"
        }
      ]
    },
    {
      "cell_type": "code",
      "metadata": {
        "id": "mjRWNCPRZ0RY",
        "colab_type": "code",
        "colab": {}
      },
      "source": [
        "IMG_SIZE = 128"
      ],
      "execution_count": 0,
      "outputs": []
    },
    {
      "cell_type": "code",
      "metadata": {
        "id": "Rj4_tPeVu6Lg",
        "colab_type": "code",
        "colab": {}
      },
      "source": [
        "CATEGORIES = ['covid', 'non_covid']\n",
        "dataset = []\n",
        "\n",
        "def generate_data():\n",
        "    for category in CATEGORIES:\n",
        "        path = f'/content/gdrive/My Drive/covid-chestxray-dataset-master/covid-chestxray-dataset-master/data/{category}'\n",
        "        class_id = CATEGORIES.index(category)\n",
        "        for image in os.listdir(path):\n",
        "            try:\n",
        "                image_array = cv2.imread(os.path.join(path, image), cv2.IMREAD_COLOR)\n",
        "                image_array = cv2.resize(image_array, (IMG_SIZE , IMG_SIZE))\n",
        "                dataset.append([image_array, class_id])\n",
        "            except Exception as e:\n",
        "                print(e)\n",
        "    random.shuffle(dataset)\n",
        "                \n",
        "generate_data()"
      ],
      "execution_count": 0,
      "outputs": []
    },
    {
      "cell_type": "code",
      "metadata": {
        "id": "Hsx_EENPu83d",
        "colab_type": "code",
        "colab": {}
      },
      "source": [
        "data = []\n",
        "labels = []\n",
        "for features, label in dataset:\n",
        "    data.append(features)\n",
        "    labels.append(label)"
      ],
      "execution_count": 0,
      "outputs": []
    },
    {
      "cell_type": "code",
      "metadata": {
        "id": "XwiZA-s7vAjW",
        "colab_type": "code",
        "outputId": "5fe84c26-1fb8-42cc-d2bb-08974c300b65",
        "colab": {
          "base_uri": "https://localhost:8080/",
          "height": 34
        }
      },
      "source": [
        "print(len(dataset))"
      ],
      "execution_count": 0,
      "outputs": [
        {
          "output_type": "stream",
          "text": [
            "162\n"
          ],
          "name": "stdout"
        }
      ]
    },
    {
      "cell_type": "code",
      "metadata": {
        "id": "84J2jRnJvB6N",
        "colab_type": "code",
        "colab": {}
      },
      "source": [
        "data = []\n",
        "labels = []\n",
        "for features, label in dataset:\n",
        "    data.append(features)\n",
        "    labels.append(label)"
      ],
      "execution_count": 0,
      "outputs": []
    },
    {
      "cell_type": "code",
      "metadata": {
        "id": "4amfmT45vE9k",
        "colab_type": "code",
        "outputId": "68ec82ed-9d24-469e-b299-8ab3951e494a",
        "colab": {
          "base_uri": "https://localhost:8080/",
          "height": 1000
        }
      },
      "source": [
        "data = np.array(data)\n",
        "data.reshape(-1, 128, 128, 3)"
      ],
      "execution_count": 0,
      "outputs": [
        {
          "output_type": "execute_result",
          "data": {
            "text/plain": [
              "array([[[[  1,   1,   1],\n",
              "         [  1,   1,   1],\n",
              "         [  1,   1,   1],\n",
              "         ...,\n",
              "         [  1,   1,   1],\n",
              "         [  1,   1,   1],\n",
              "         [  1,   1,   1]],\n",
              "\n",
              "        [[  1,   1,   1],\n",
              "         [  1,   1,   1],\n",
              "         [  1,   1,   1],\n",
              "         ...,\n",
              "         [  1,   1,   1],\n",
              "         [  1,   1,   1],\n",
              "         [  1,   1,   1]],\n",
              "\n",
              "        [[  1,   1,   1],\n",
              "         [250, 250, 250],\n",
              "         [  1,   1,   1],\n",
              "         ...,\n",
              "         [  1,   1,   1],\n",
              "         [  1,   1,   1],\n",
              "         [  1,   1,   1]],\n",
              "\n",
              "        ...,\n",
              "\n",
              "        [[  1,   1,   1],\n",
              "         [254, 254, 254],\n",
              "         [ 40,  40,  40],\n",
              "         ...,\n",
              "         [  1,   1,   1],\n",
              "         [  1,   1,   1],\n",
              "         [  1,   1,   1]],\n",
              "\n",
              "        [[  1,   1,   1],\n",
              "         [  1,   1,   1],\n",
              "         [ 31,  31,  31],\n",
              "         ...,\n",
              "         [  1,   1,   1],\n",
              "         [  1,   1,   1],\n",
              "         [  1,   1,   1]],\n",
              "\n",
              "        [[  1,   1,   1],\n",
              "         [  1,   1,   1],\n",
              "         [ 21,  21,  21],\n",
              "         ...,\n",
              "         [  2,   2,   2],\n",
              "         [  1,   1,   1],\n",
              "         [  1,   1,   1]]],\n",
              "\n",
              "\n",
              "       [[[ 19,  19,  19],\n",
              "         [ 19,  19,  19],\n",
              "         [ 19,  19,  19],\n",
              "         ...,\n",
              "         [ 19,  19,  19],\n",
              "         [ 19,  19,  19],\n",
              "         [ 19,  19,  19]],\n",
              "\n",
              "        [[ 19,  19,  19],\n",
              "         [ 19,  19,  19],\n",
              "         [ 19,  19,  19],\n",
              "         ...,\n",
              "         [ 19,  19,  19],\n",
              "         [ 19,  19,  19],\n",
              "         [ 19,  19,  19]],\n",
              "\n",
              "        [[ 19,  19,  19],\n",
              "         [ 19,  19,  19],\n",
              "         [ 19,  19,  19],\n",
              "         ...,\n",
              "         [ 19,  19,  19],\n",
              "         [ 19,  19,  19],\n",
              "         [ 19,  19,  19]],\n",
              "\n",
              "        ...,\n",
              "\n",
              "        [[ 19,  19,  19],\n",
              "         [ 19,  19,  19],\n",
              "         [ 19,  19,  19],\n",
              "         ...,\n",
              "         [ 19,  19,  19],\n",
              "         [ 19,  19,  19],\n",
              "         [ 19,  19,  19]],\n",
              "\n",
              "        [[ 19,  19,  19],\n",
              "         [ 19,  19,  19],\n",
              "         [ 19,  19,  19],\n",
              "         ...,\n",
              "         [ 19,  19,  19],\n",
              "         [ 19,  19,  19],\n",
              "         [ 19,  19,  19]],\n",
              "\n",
              "        [[ 19,  19,  19],\n",
              "         [ 19,  19,  19],\n",
              "         [ 19,  19,  19],\n",
              "         ...,\n",
              "         [ 19,  19,  19],\n",
              "         [ 19,  19,  19],\n",
              "         [ 19,  19,  19]]],\n",
              "\n",
              "\n",
              "       [[[  0,   0,   0],\n",
              "         [  0,   0,   0],\n",
              "         [  0,   0,   0],\n",
              "         ...,\n",
              "         [ 14,  14,  14],\n",
              "         [ 14,  14,  14],\n",
              "         [ 16,  16,  16]],\n",
              "\n",
              "        [[  0,   0,   0],\n",
              "         [  0,   0,   0],\n",
              "         [  0,   0,   0],\n",
              "         ...,\n",
              "         [ 14,  14,  14],\n",
              "         [ 15,  15,  15],\n",
              "         [ 15,  15,  15]],\n",
              "\n",
              "        [[  0,   0,   0],\n",
              "         [  0,   0,   0],\n",
              "         [  1,   1,   1],\n",
              "         ...,\n",
              "         [ 14,  14,  14],\n",
              "         [ 15,  15,  15],\n",
              "         [ 15,  15,  15]],\n",
              "\n",
              "        ...,\n",
              "\n",
              "        [[  6,   6,   6],\n",
              "         [ 20,  20,  20],\n",
              "         [ 23,  23,  23],\n",
              "         ...,\n",
              "         [ 11,  11,  11],\n",
              "         [ 11,  11,  11],\n",
              "         [ 11,  11,  11]],\n",
              "\n",
              "        [[  7,   7,   7],\n",
              "         [ 21,  21,  21],\n",
              "         [ 24,  24,  24],\n",
              "         ...,\n",
              "         [ 11,  11,  11],\n",
              "         [ 11,  11,  11],\n",
              "         [ 11,  11,  11]],\n",
              "\n",
              "        [[  4,   4,   4],\n",
              "         [ 20,  20,  20],\n",
              "         [ 24,  24,  24],\n",
              "         ...,\n",
              "         [ 11,  11,  11],\n",
              "         [ 11,  11,  11],\n",
              "         [ 11,  11,  11]]],\n",
              "\n",
              "\n",
              "       ...,\n",
              "\n",
              "\n",
              "       [[[130, 130, 130],\n",
              "         [105, 105, 105],\n",
              "         [102, 102, 102],\n",
              "         ...,\n",
              "         [  9,   9,   9],\n",
              "         [  9,   9,   9],\n",
              "         [  8,   8,   8]],\n",
              "\n",
              "        [[147, 147, 147],\n",
              "         [129, 129, 129],\n",
              "         [120, 120, 120],\n",
              "         ...,\n",
              "         [ 94,  94,  94],\n",
              "         [ 55,  55,  55],\n",
              "         [ 26,  26,  26]],\n",
              "\n",
              "        [[130, 130, 130],\n",
              "         [135, 135, 135],\n",
              "         [129, 129, 129],\n",
              "         ...,\n",
              "         [110, 110, 110],\n",
              "         [ 98,  98,  98],\n",
              "         [ 97,  97,  97]],\n",
              "\n",
              "        ...,\n",
              "\n",
              "        [[ 60,  60,  60],\n",
              "         [106, 106, 106],\n",
              "         [105, 105, 105],\n",
              "         ...,\n",
              "         [101, 101, 101],\n",
              "         [ 94,  94,  94],\n",
              "         [ 88,  88,  88]],\n",
              "\n",
              "        [[ 34,  34,  34],\n",
              "         [ 59,  59,  59],\n",
              "         [ 69,  69,  69],\n",
              "         ...,\n",
              "         [100, 100, 100],\n",
              "         [ 97,  97,  97],\n",
              "         [ 94,  94,  94]],\n",
              "\n",
              "        [[ 27,  27,  27],\n",
              "         [ 49,  49,  49],\n",
              "         [ 64,  64,  64],\n",
              "         ...,\n",
              "         [ 97,  97,  97],\n",
              "         [ 98,  98,  98],\n",
              "         [ 86,  86,  86]]],\n",
              "\n",
              "\n",
              "       [[[ 52,  52,  52],\n",
              "         [ 52,  52,  52],\n",
              "         [ 52,  52,  52],\n",
              "         ...,\n",
              "         [ 52,  52,  52],\n",
              "         [ 52,  52,  52],\n",
              "         [ 52,  52,  52]],\n",
              "\n",
              "        [[ 52,  52,  52],\n",
              "         [ 52,  52,  52],\n",
              "         [ 52,  52,  52],\n",
              "         ...,\n",
              "         [ 52,  52,  52],\n",
              "         [ 52,  52,  52],\n",
              "         [ 52,  52,  52]],\n",
              "\n",
              "        [[ 52,  52,  52],\n",
              "         [ 52,  52,  52],\n",
              "         [ 52,  52,  52],\n",
              "         ...,\n",
              "         [ 52,  52,  52],\n",
              "         [ 52,  52,  52],\n",
              "         [ 52,  52,  52]],\n",
              "\n",
              "        ...,\n",
              "\n",
              "        [[ 53,  53,  53],\n",
              "         [ 53,  53,  53],\n",
              "         [ 69,  69,  69],\n",
              "         ...,\n",
              "         [ 52,  52,  52],\n",
              "         [ 52,  52,  52],\n",
              "         [ 52,  52,  52]],\n",
              "\n",
              "        [[ 52,  52,  52],\n",
              "         [ 52,  52,  52],\n",
              "         [ 56,  56,  56],\n",
              "         ...,\n",
              "         [ 52,  52,  52],\n",
              "         [ 52,  52,  52],\n",
              "         [ 52,  52,  52]],\n",
              "\n",
              "        [[ 52,  52,  52],\n",
              "         [ 52,  52,  52],\n",
              "         [ 51,  51,  51],\n",
              "         ...,\n",
              "         [ 52,  52,  52],\n",
              "         [ 52,  52,  52],\n",
              "         [ 52,  52,  52]]],\n",
              "\n",
              "\n",
              "       [[[141, 141, 141],\n",
              "         [136, 136, 136],\n",
              "         [124, 124, 124],\n",
              "         ...,\n",
              "         [  9,   9,   9],\n",
              "         [  7,   7,   7],\n",
              "         [  7,   7,   7]],\n",
              "\n",
              "        [[113, 113, 113],\n",
              "         [104, 104, 104],\n",
              "         [128, 128, 128],\n",
              "         ...,\n",
              "         [  5,   5,   5],\n",
              "         [  5,   5,   5],\n",
              "         [  2,   2,   2]],\n",
              "\n",
              "        [[121, 121, 121],\n",
              "         [118, 118, 118],\n",
              "         [109, 109, 109],\n",
              "         ...,\n",
              "         [  9,   9,   9],\n",
              "         [  7,   7,   7],\n",
              "         [  5,   5,   5]],\n",
              "\n",
              "        ...,\n",
              "\n",
              "        [[135, 135, 135],\n",
              "         [150, 150, 150],\n",
              "         [151, 151, 151],\n",
              "         ...,\n",
              "         [176, 176, 176],\n",
              "         [164, 164, 164],\n",
              "         [152, 152, 152]],\n",
              "\n",
              "        [[138, 138, 138],\n",
              "         [143, 143, 143],\n",
              "         [150, 150, 150],\n",
              "         ...,\n",
              "         [173, 173, 173],\n",
              "         [171, 171, 171],\n",
              "         [152, 152, 152]],\n",
              "\n",
              "        [[144, 144, 144],\n",
              "         [143, 143, 143],\n",
              "         [153, 153, 153],\n",
              "         ...,\n",
              "         [172, 172, 172],\n",
              "         [174, 174, 174],\n",
              "         [152, 152, 152]]]], dtype=uint8)"
            ]
          },
          "metadata": {
            "tags": []
          },
          "execution_count": 9
        }
      ]
    },
    {
      "cell_type": "code",
      "metadata": {
        "id": "Fod5HFUDZe3-",
        "colab_type": "code",
        "colab": {}
      },
      "source": [
        "pickle.dump(data, open(\"data1.pickle\", \"wb\"))\n",
        "\n",
        "pickle.dump(labels, open(\"labels1.pickle\", \"wb\"))"
      ],
      "execution_count": 0,
      "outputs": []
    },
    {
      "cell_type": "code",
      "metadata": {
        "id": "UnlkNLz5ZgG9",
        "colab_type": "code",
        "colab": {}
      },
      "source": [
        "data = pickle.load(open(\"data1.pickle\", \"rb\"))\n",
        "\n",
        "labels = pickle.load(open(\"labels1.pickle\", \"rb\"))"
      ],
      "execution_count": 0,
      "outputs": []
    },
    {
      "cell_type": "code",
      "metadata": {
        "id": "mCLAwHTjwu8e",
        "colab_type": "code",
        "colab": {}
      },
      "source": [
        "train_data, data, train_labels, labels = train_test_split(data, \n",
        "                                                          labels,\n",
        "                                                          test_size=0.2)\n",
        "\n",
        "test_data, validation_data, test_labels, validation_labels = train_test_split(data, \n",
        "                                                                    labels,\n",
        "                                                                    test_size=0.7)"
      ],
      "execution_count": 0,
      "outputs": []
    },
    {
      "cell_type": "code",
      "metadata": {
        "id": "EPNjXgvHwwnB",
        "colab_type": "code",
        "outputId": "9a739df0-3d7d-4f92-a09c-3847e3c75338",
        "colab": {
          "base_uri": "https://localhost:8080/",
          "height": 251
        }
      },
      "source": [
        "plt.figure(figsize=(10, 10))\n",
        "i = 0\n",
        "for i in range(len(test_data)):\n",
        "    plt.subplot(5, 5, i+1)\n",
        "    plt.xticks([])\n",
        "    plt.yticks([])\n",
        "    plt.imshow(test_data[i])\n",
        "    if(test_labels[i] == 0):\n",
        "        plt.xlabel('Infected')\n",
        "    else:\n",
        "        plt.xlabel('Uninfected')\n",
        "    i += 1\n",
        "plt.show()"
      ],
      "execution_count": 0,
      "outputs": [
        {
          "output_type": "display_data",
          "data": {
            "image/png": "[encoded data removed]",
            "text/plain": [
              "<Figure size 720x720 with 9 Axes>"
            ]
          },
          "metadata": {
            "tags": []
          }
        }
      ]
    },
    {
      "cell_type": "code",
      "metadata": {
        "id": "8ARw3xOcw4ki",
        "colab_type": "code",
        "outputId": "bdecbea7-7d4a-41b3-daca-e1d16fe59c8e",
        "colab": {
          "base_uri": "https://localhost:8080/",
          "height": 249
        }
      },
      "source": [
        "datagen_train = ImageDataGenerator(rescale=1./255,\n",
        "                            rotation_range=45,\n",
        "                            width_shift_range=0.2,\n",
        "                            height_shift_range=0.2,\n",
        "                            shear_range=0.2,\n",
        "                            zoom_range=0.2,\n",
        "                            horizontal_flip=True)\n",
        "\n",
        "datagen_test = ImageDataGenerator(rescale=1./255)\n",
        "datagen_validation = ImageDataGenerator(rescale=1./255)"
      ],
      "execution_count": 0,
      "outputs": [
        {
          "output_type": "error",
          "ename": "NameError",
          "evalue": "ignored",
          "traceback": [
            "\u001b[0;31m---------------------------------------------------------------------------\u001b[0m",
            "\u001b[0;31mNameError\u001b[0m                                 Traceback (most recent call last)",
            "\u001b[0;32m<ipython-input-2-078f04b2386c>\u001b[0m in \u001b[0;36m<module>\u001b[0;34m()\u001b[0m\n\u001b[0;32m----> 1\u001b[0;31m datagen_train = ImageDataGenerator(rescale=1./255,\n\u001b[0m\u001b[1;32m      2\u001b[0m                             \u001b[0mrotation_range\u001b[0m\u001b[0;34m=\u001b[0m\u001b[0;36m45\u001b[0m\u001b[0;34m,\u001b[0m\u001b[0;34m\u001b[0m\u001b[0;34m\u001b[0m\u001b[0m\n\u001b[1;32m      3\u001b[0m                             \u001b[0mwidth_shift_range\u001b[0m\u001b[0;34m=\u001b[0m\u001b[0;36m0.2\u001b[0m\u001b[0;34m,\u001b[0m\u001b[0;34m\u001b[0m\u001b[0;34m\u001b[0m\u001b[0m\n\u001b[1;32m      4\u001b[0m                             \u001b[0mheight_shift_range\u001b[0m\u001b[0;34m=\u001b[0m\u001b[0;36m0.2\u001b[0m\u001b[0;34m,\u001b[0m\u001b[0;34m\u001b[0m\u001b[0;34m\u001b[0m\u001b[0m\n\u001b[1;32m      5\u001b[0m                             \u001b[0mshear_range\u001b[0m\u001b[0;34m=\u001b[0m\u001b[0;36m0.2\u001b[0m\u001b[0;34m,\u001b[0m\u001b[0;34m\u001b[0m\u001b[0;34m\u001b[0m\u001b[0m\n",
            "\u001b[0;31mNameError\u001b[0m: name 'ImageDataGenerator' is not defined"
          ]
        }
      ]
    },
    {
      "cell_type": "code",
      "metadata": {
        "id": "zFTWUHTZ9Nvu",
        "colab_type": "code",
        "colab": {}
      },
      "source": [
        "datagen_train.fit(train_data)\n",
        "datagen_test.fit(test_data)\n",
        "datagen_test.fit(validation_data)"
      ],
      "execution_count": 0,
      "outputs": []
    },
    {
      "cell_type": "code",
      "metadata": {
        "id": "53o8XXdN_C9L",
        "colab_type": "code",
        "colab": {}
      },
      "source": [
        "model = Sequential([\n",
        "      \n",
        "       Flatten(),\n",
        "       Dense(32, activation = 'relu', input_shape=(IMG_SIZE,IMG_SIZE,3)) ,\n",
        "       Dense(16,activation='relu'),\n",
        "       Dropout(0.2),\n",
        "       Dense(32, activation='relu'),\n",
        "       Dense(32, activation='sigmoid'),\n",
        "       Dropout(0.5),\n",
        "       Dense(2, activation='softmax')\n",
        "])"
      ],
      "execution_count": 0,
      "outputs": []
    },
    {
      "cell_type": "code",
      "metadata": {
        "id": "Ws37TuTwDTV8",
        "colab_type": "code",
        "colab": {}
      },
      "source": [
        "model.compile(optimizer='adam',\n",
        "             loss='sparse_categorical_crossentropy',\n",
        "             metrics=['accuracy'])\n"
      ],
      "execution_count": 0,
      "outputs": []
    },
    {
      "cell_type": "code",
      "metadata": {
        "id": "ibfA2P3lxUvk",
        "colab_type": "code",
        "outputId": "dc5d9fb4-d898-48aa-a3dd-248dd61a0675",
        "colab": {
          "base_uri": "https://localhost:8080/",
          "height": 121
        }
      },
      "source": [
        "BATCH_SIZE = 32\n",
        "epochs = 30\n",
        "history = model.fit_generator(datagen_train.flow(train_data, train_labels, batch_size=BATCH_SIZE),\n",
        "                   steps_per_epoch=8000 / BATCH_SIZE,\n",
        "                   epochs=epochs,\n",
        "                   validation_data=datagen_validation.flow(validation_data, \n",
        "                                                     validation_labels, batch_size=BATCH_SIZE),\n",
        "                    \n",
        "                   )"
      ],
      "execution_count": 0,
      "outputs": [
        {
          "output_type": "stream",
          "text": [
            "WARNING:tensorflow:From <ipython-input-18-20f0ed5b2d5d>:7: Model.fit_generator (from tensorflow.python.keras.engine.training) is deprecated and will be removed in a future version.\n",
            "Instructions for updating:\n",
            "Please use Model.fit, which supports generators.\n",
            "Epoch 1/30\n",
            "249/250 [============================>.] - ETA: 0s - loss: 0.5492 - accuracy: 0.7823"
          ],
          "name": "stdout"
        }
      ]
    },
    {
      "cell_type": "code",
      "metadata": {
        "id": "ntKwEDICvG8C",
        "colab_type": "code",
        "outputId": "ba7fa1c5-f284-4fdf-b184-802ba85616f3",
        "colab": {
          "base_uri": "https://localhost:8080/",
          "height": 92
        }
      },
      "source": [
        "accuracy = history.history['acc']\n",
        "loss = history.history['loss']\n",
        "val_accuracy = history.history['val_acc']\n",
        "val_loss = history.history['val_loss']\n",
        "\n",
        "print(f'Training Accuracy: {np.max(accuracy)}')\n",
        "print(f'Training Loss: {np.min(loss)}')\n",
        "print(f'Validation Accuracy: {np.max(val_accuracy)}')\n",
        "print(f'Validation Loss: {np.min(val_loss)}')"
      ],
      "execution_count": 0,
      "outputs": [
        {
          "output_type": "stream",
          "text": [
            "Training Accuracy: 0.8394160866737366\n",
            "Training Loss: 0.4403631904612492\n",
            "Validation Accuracy: 0.8421052694320679\n",
            "Validation Loss: 0.4361623525619507\n"
          ],
          "name": "stdout"
        }
      ]
    },
    {
      "cell_type": "code",
      "metadata": {
        "id": "6mwkElzE6lwf",
        "colab_type": "code",
        "outputId": "26109e70-7de5-4a94-ea5c-73e5a99e300a",
        "colab": {
          "base_uri": "https://localhost:8080/",
          "height": 370
        }
      },
      "source": [
        "epochs_range = range(epochs)\n",
        "\n",
        "plt.figure(figsize=(15, 5))\n",
        "plt.subplot(1, 2, 1)\n",
        "plt.xlabel('epochs')\n",
        "plt.ylabel('Accuracy rate')\n",
        "plt.plot(epochs_range, accuracy, label=\"Training Accuracy\")\n",
        "plt.plot(epochs_range, val_accuracy, label=\"Validation Accuracy\")\n",
        "plt.legend(loc=\"lower right\")\n",
        "plt.title(\"Training and Validation Accuracy\")\n",
        "\n",
        "plt.subplot(1, 2, 2)\n",
        "plt.xlabel('epochs')\n",
        "plt.ylabel('loss rate')\n",
        "plt.plot(epochs_range, loss, label=\"Training Loss\")\n",
        "plt.plot(epochs_range, val_loss, label=\"Validation Loss\")\n",
        "plt.legend(loc=\"upper right\")\n",
        "plt.title(\"Training and Validation Loss\")\n",
        "plt.show()"
      ],
      "execution_count": 0,
      "outputs": [
        {
          "output_type": "display_data",
          "data": {
            "image/png": "[encoded data removed]",
            "text/plain": [
              "<Figure size 1080x360 with 2 Axes>"
            ]
          },
          "metadata": {
            "tags": []
          }
        }
      ]
    },
    {
      "cell_type": "code",
      "metadata": {
        "id": "4C35_l6Fur_5",
        "colab_type": "code",
        "colab": {}
      },
      "source": [
        "class_names = ['cancer', 'normal']\n",
        "def plot_images(i, predictions_array, true_labels, images):\n",
        "    predictions_array, true_label, img = predictions_array[i], true_labels[i],images[i]\n",
        "    plt.grid(False)\n",
        "    plt.xticks([])\n",
        "    plt.yticks([])\n",
        "    \n",
        "    plt.imshow(img)\n",
        "    \n",
        "    predicted_label = np.argmax(predictions_array)\n",
        "        \n",
        "    plt.xlabel(\"{} {:2.0f}% ({})\".format(class_names[predicted_label],\n",
        "                                        100*np.max(predictions_array),\n",
        "                                        class_names[true_label]))"
      ],
      "execution_count": 0,
      "outputs": []
    },
    {
      "cell_type": "code",
      "metadata": {
        "id": "nCmLlFVf6-CS",
        "colab_type": "code",
        "colab": {}
      },
      "source": [
        "random.shuffle(test_data)\n",
        "predictions = model.predict(test_data)\n"
      ],
      "execution_count": 0,
      "outputs": []
    },
    {
      "cell_type": "code",
      "metadata": {
        "id": "N6XvWV4x6_nA",
        "colab_type": "code",
        "outputId": "d553dd57-1087-4ed7-8db9-ad8babab8160",
        "colab": {
          "base_uri": "https://localhost:8080/",
          "height": 157
        }
      },
      "source": [
        "num_rows = 8\n",
        "num_cols = 6\n",
        "num_images = num_rows * num_cols\n",
        "plt.figure(figsize=(2*2*num_cols, 2*num_rows))\n",
        "for i in range(len(test_data)):\n",
        "    plt.subplot(num_rows, 2*num_cols, 2*i+1)\n",
        "    plot_images(i, predictions, test_labels, test_data)"
      ],
      "execution_count": 0,
      "outputs": [
        {
          "output_type": "display_data",
          "data": {
            "image/png": "[encoded data removed]",
            "text/plain": [
              "<Figure size 1728x1152 with 6 Axes>"
            ]
          },
          "metadata": {
            "tags": []
          }
        }
      ]
    },
    {
      "cell_type": "code",
      "metadata": {
        "id": "OzxsYWqxl1-E",
        "colab_type": "code",
        "outputId": "0de09d17-5f74-414c-e21a-56f0c0f7a1a4",
        "colab": {
          "base_uri": "https://localhost:8080/",
          "height": 466
        }
      },
      "source": [
        "model.summary( )"
      ],
      "execution_count": 0,
      "outputs": [
        {
          "output_type": "stream",
          "text": [
            "Model: \"sequential\"\n",
            "_________________________________________________________________\n",
            "Layer (type)                 Output Shape              Param #   \n",
            "=================================================================\n",
            "flatten (Flatten)            multiple                  0         \n",
            "_________________________________________________________________\n",
            "dense (Dense)                multiple                  1572896   \n",
            "_________________________________________________________________\n",
            "dense_1 (Dense)              multiple                  528       \n",
            "_________________________________________________________________\n",
            "dropout (Dropout)            multiple                  0         \n",
            "_________________________________________________________________\n",
            "dense_2 (Dense)              multiple                  544       \n",
            "_________________________________________________________________\n",
            "dense_3 (Dense)              multiple                  1056      \n",
            "_________________________________________________________________\n",
            "dropout_1 (Dropout)          multiple                  0         \n",
            "_________________________________________________________________\n",
            "dense_4 (Dense)              multiple                  66        \n",
            "=================================================================\n",
            "Total params: 1,575,090\n",
            "Trainable params: 1,575,090\n",
            "Non-trainable params: 0\n",
            "_________________________________________________________________\n"
          ],
          "name": "stdout"
        }
      ]
    },
    {
      "cell_type": "code",
      "metadata": {
        "id": "rt3Lu92Nl7EF",
        "colab_type": "code",
        "outputId": "561b9cfa-ee35-4d78-afcb-3a93a3676763",
        "colab": {
          "base_uri": "https://localhost:8080/",
          "height": 54
        }
      },
      "source": [
        "loss , accuracy = model.evaluate( test_data , test_labels )\n",
        "print( \"Loss of {}\".format( loss ) , \"Accuracy of {} %\".format( accuracy * 100 ) )"
      ],
      "execution_count": 0,
      "outputs": [
        {
          "output_type": "stream",
          "text": [
            "\r6/6 [==============================] - 0s 998us/sample - loss: 0.1794 - acc: 1.0000\n",
            "Loss of 0.17944364249706268 Accuracy of 100.0 %\n"
          ],
          "name": "stdout"
        }
      ]
    },
    {
      "cell_type": "code",
      "metadata": {
        "id": "yKeNvZBWmBQ6",
        "colab_type": "code",
        "outputId": "b3399ad9-98d3-4242-d53b-26bc5bedb20c",
        "colab": {
          "base_uri": "https://localhost:8080/",
          "height": 36
        }
      },
      "source": [
        "pred=model.predict( test_data).argmax( axis=1 ) \n",
        "print ( pred )"
      ],
      "execution_count": 0,
      "outputs": [
        {
          "output_type": "stream",
          "text": [
            "[1 1 1 1 1 1]\n"
          ],
          "name": "stdout"
        }
      ]
    },
    {
      "cell_type": "code",
      "metadata": {
        "id": "V4NI7wptG3ro",
        "colab_type": "code",
        "outputId": "f198f083-03aa-43af-c177-f5ece336dbf8",
        "colab": {
          "base_uri": "https://localhost:8080/",
          "height": 54
        }
      },
      "source": [
        "from sklearn.metrics import f1_score\n",
        "from sklearn import metrics\n",
        "from sklearn.metrics import plot_confusion_matrix\n",
        "print('F1_score : ',f1_score(test_labels,pred))\n",
        "print('sensitibity : ',metrics.recall_score(test_labels, pred))"
      ],
      "execution_count": 0,
      "outputs": [
        {
          "output_type": "stream",
          "text": [
            "F1_score :  1.0\n",
            "sensitibity :  1.0\n"
          ],
          "name": "stdout"
        }
      ]
    },
    {
      "cell_type": "code",
      "metadata": {
        "id": "OCm-wkWPmZ0R",
        "colab_type": "code",
        "outputId": "6218ba70-f00c-46f7-cf5a-d6d18a104048",
        "colab": {
          "base_uri": "https://localhost:8080/",
          "height": 167
        }
      },
      "source": [
        "from sklearn.metrics import classification_report\n",
        "print(classification_report(test_labels, pred))"
      ],
      "execution_count": 0,
      "outputs": [
        {
          "output_type": "stream",
          "text": [
            "              precision    recall  f1-score   support\n",
            "\n",
            "           1       1.00      1.00      1.00         6\n",
            "\n",
            "    accuracy                           1.00         6\n",
            "   macro avg       1.00      1.00      1.00         6\n",
            "weighted avg       1.00      1.00      1.00         6\n",
            "\n"
          ],
          "name": "stdout"
        }
      ]
    },
    {
      "cell_type": "code",
      "metadata": {
        "id": "RlG_7FWImnhj",
        "colab_type": "code",
        "outputId": "824feebf-4360-4264-98b2-78d0d519884a",
        "colab": {
          "base_uri": "https://localhost:8080/",
          "height": 727
        }
      },
      "source": [
        "from sklearn.metrics import roc_curve,roc_auc_score\n",
        "import matplotlib.pyplot as plt\n",
        "from sklearn.metrics import matthews_corrcoef\n",
        "\n",
        "fpr , tpr , thresholds = roc_curve (test_labels,pred)\n",
        "plot_roc_curve (fpr,tpr)\n",
        "auc_score=roc_auc_score(test_labels,pred) \n",
        "print(auc_score) \n",
        "print(matthews_corrcoef(test_labels,pred))"
      ],
      "execution_count": 0,
      "outputs": [
        {
          "output_type": "stream",
          "text": [
            "/usr/local/lib/python3.6/dist-packages/sklearn/metrics/_ranking.py:800: UndefinedMetricWarning: No negative samples in y_true, false positive value should be meaningless\n",
            "  UndefinedMetricWarning)\n"
          ],
          "name": "stderr"
        },
        {
          "output_type": "display_data",
          "data": {
            "image/png": "[encoded data removed]",
            "text/plain": [
              "<Figure size 432x288 with 1 Axes>"
            ]
          },
          "metadata": {
            "tags": []
          }
        },
        {
          "output_type": "error",
          "ename": "ValueError",
          "evalue": "ignored",
          "traceback": [
            "\u001b[0;31m---------------------------------------------------------------------------\u001b[0m",
            "\u001b[0;31mValueError\u001b[0m                                Traceback (most recent call last)",
            "\u001b[0;32m<ipython-input-33-01959e93c893>\u001b[0m in \u001b[0;36m<module>\u001b[0;34m()\u001b[0m\n\u001b[1;32m      5\u001b[0m \u001b[0mfpr\u001b[0m \u001b[0;34m,\u001b[0m \u001b[0mtpr\u001b[0m \u001b[0;34m,\u001b[0m \u001b[0mthresholds\u001b[0m \u001b[0;34m=\u001b[0m \u001b[0mroc_curve\u001b[0m \u001b[0;34m(\u001b[0m\u001b[0mtest_labels\u001b[0m\u001b[0;34m,\u001b[0m\u001b[0mpred\u001b[0m\u001b[0;34m)\u001b[0m\u001b[0;34m\u001b[0m\u001b[0;34m\u001b[0m\u001b[0m\n\u001b[1;32m      6\u001b[0m \u001b[0mplot_roc_curve\u001b[0m \u001b[0;34m(\u001b[0m\u001b[0mfpr\u001b[0m\u001b[0;34m,\u001b[0m\u001b[0mtpr\u001b[0m\u001b[0;34m)\u001b[0m\u001b[0;34m\u001b[0m\u001b[0;34m\u001b[0m\u001b[0m\n\u001b[0;32m----> 7\u001b[0;31m \u001b[0mauc_score\u001b[0m\u001b[0;34m=\u001b[0m\u001b[0mroc_auc_score\u001b[0m\u001b[0;34m(\u001b[0m\u001b[0mtest_labels\u001b[0m\u001b[0;34m,\u001b[0m\u001b[0mpred\u001b[0m\u001b[0;34m)\u001b[0m\u001b[0;34m\u001b[0m\u001b[0;34m\u001b[0m\u001b[0m\n\u001b[0m\u001b[1;32m      8\u001b[0m \u001b[0mprint\u001b[0m\u001b[0;34m(\u001b[0m\u001b[0mauc_score\u001b[0m\u001b[0;34m)\u001b[0m\u001b[0;34m\u001b[0m\u001b[0;34m\u001b[0m\u001b[0m\n\u001b[1;32m      9\u001b[0m \u001b[0mprint\u001b[0m\u001b[0;34m(\u001b[0m\u001b[0mmatthews_corrcoef\u001b[0m\u001b[0;34m(\u001b[0m\u001b[0mtest_labels\u001b[0m\u001b[0;34m,\u001b[0m\u001b[0mpred\u001b[0m\u001b[0;34m)\u001b[0m\u001b[0;34m)\u001b[0m\u001b[0;34m\u001b[0m\u001b[0;34m\u001b[0m\u001b[0m\n",
            "\u001b[0;32m/usr/local/lib/python3.6/dist-packages/sklearn/metrics/_ranking.py\u001b[0m in \u001b[0;36mroc_auc_score\u001b[0;34m(y_true, y_score, average, sample_weight, max_fpr, multi_class, labels)\u001b[0m\n\u001b[1;32m    388\u001b[0m                                              max_fpr=max_fpr),\n\u001b[1;32m    389\u001b[0m                                      \u001b[0my_true\u001b[0m\u001b[0;34m,\u001b[0m \u001b[0my_score\u001b[0m\u001b[0;34m,\u001b[0m \u001b[0maverage\u001b[0m\u001b[0;34m,\u001b[0m\u001b[0;34m\u001b[0m\u001b[0;34m\u001b[0m\u001b[0m\n\u001b[0;32m--> 390\u001b[0;31m                                      sample_weight=sample_weight)\n\u001b[0m\u001b[1;32m    391\u001b[0m     \u001b[0;32melse\u001b[0m\u001b[0;34m:\u001b[0m  \u001b[0;31m# multilabel-indicator\u001b[0m\u001b[0;34m\u001b[0m\u001b[0;34m\u001b[0m\u001b[0m\n\u001b[1;32m    392\u001b[0m         return _average_binary_score(partial(_binary_roc_auc_score,\n",
            "\u001b[0;32m/usr/local/lib/python3.6/dist-packages/sklearn/metrics/_base.py\u001b[0m in \u001b[0;36m_average_binary_score\u001b[0;34m(binary_metric, y_true, y_score, average, sample_weight)\u001b[0m\n\u001b[1;32m     75\u001b[0m \u001b[0;34m\u001b[0m\u001b[0m\n\u001b[1;32m     76\u001b[0m     \u001b[0;32mif\u001b[0m \u001b[0my_type\u001b[0m \u001b[0;34m==\u001b[0m \u001b[0;34m\"binary\"\u001b[0m\u001b[0;34m:\u001b[0m\u001b[0;34m\u001b[0m\u001b[0;34m\u001b[0m\u001b[0m\n\u001b[0;32m---> 77\u001b[0;31m         \u001b[0;32mreturn\u001b[0m \u001b[0mbinary_metric\u001b[0m\u001b[0;34m(\u001b[0m\u001b[0my_true\u001b[0m\u001b[0;34m,\u001b[0m \u001b[0my_score\u001b[0m\u001b[0;34m,\u001b[0m \u001b[0msample_weight\u001b[0m\u001b[0;34m=\u001b[0m\u001b[0msample_weight\u001b[0m\u001b[0;34m)\u001b[0m\u001b[0;34m\u001b[0m\u001b[0;34m\u001b[0m\u001b[0m\n\u001b[0m\u001b[1;32m     78\u001b[0m \u001b[0;34m\u001b[0m\u001b[0m\n\u001b[1;32m     79\u001b[0m     \u001b[0mcheck_consistent_length\u001b[0m\u001b[0;34m(\u001b[0m\u001b[0my_true\u001b[0m\u001b[0;34m,\u001b[0m \u001b[0my_score\u001b[0m\u001b[0;34m,\u001b[0m \u001b[0msample_weight\u001b[0m\u001b[0;34m)\u001b[0m\u001b[0;34m\u001b[0m\u001b[0;34m\u001b[0m\u001b[0m\n",
            "\u001b[0;32m/usr/local/lib/python3.6/dist-packages/sklearn/metrics/_ranking.py\u001b[0m in \u001b[0;36m_binary_roc_auc_score\u001b[0;34m(y_true, y_score, sample_weight, max_fpr)\u001b[0m\n\u001b[1;32m    219\u001b[0m     \u001b[0;34m\"\"\"Binary roc auc score\"\"\"\u001b[0m\u001b[0;34m\u001b[0m\u001b[0;34m\u001b[0m\u001b[0m\n\u001b[1;32m    220\u001b[0m     \u001b[0;32mif\u001b[0m \u001b[0mlen\u001b[0m\u001b[0;34m(\u001b[0m\u001b[0mnp\u001b[0m\u001b[0;34m.\u001b[0m\u001b[0munique\u001b[0m\u001b[0;34m(\u001b[0m\u001b[0my_true\u001b[0m\u001b[0;34m)\u001b[0m\u001b[0;34m)\u001b[0m \u001b[0;34m!=\u001b[0m \u001b[0;36m2\u001b[0m\u001b[0;34m:\u001b[0m\u001b[0;34m\u001b[0m\u001b[0;34m\u001b[0m\u001b[0m\n\u001b[0;32m--> 221\u001b[0;31m         raise ValueError(\"Only one class present in y_true. ROC AUC score \"\n\u001b[0m\u001b[1;32m    222\u001b[0m                          \"is not defined in that case.\")\n\u001b[1;32m    223\u001b[0m \u001b[0;34m\u001b[0m\u001b[0m\n",
            "\u001b[0;31mValueError\u001b[0m: Only one class present in y_true. ROC AUC score is not defined in that case."
          ]
        }
      ]
    },
    {
      "cell_type": "code",
      "metadata": {
        "id": "-b9QyaSHPK4C",
        "colab_type": "code",
        "colab": {}
      },
      "source": [
        "\n",
        "def plot_roc_curve(fpr,tpr): \n",
        "  plt.plot(fpr,tpr) \n",
        "  plt.axis([0,1,0,1]) \n",
        "  plt.xlabel('False Positive Rate') \n",
        "  plt.ylabel('True Positive Rate') \n",
        "  plt.show() \n",
        "   "
      ],
      "execution_count": 0,
      "outputs": []
    },
    {
      "cell_type": "code",
      "metadata": {
        "id": "KtTu-C1wCDTV",
        "colab_type": "code",
        "colab": {}
      },
      "source": [
        "confusion = confusion_matrix(test_set.classes, y_pred)\n",
        "TP = confusion[1, 1]\n",
        "TN = confusion[0, 0]\n",
        "FP = confusion[0, 1]\n",
        "FN = confusion[1, 0]"
      ],
      "execution_count": 0,
      "outputs": []
    },
    {
      "cell_type": "code",
      "metadata": {
        "id": "qYnmclEgCFQl",
        "colab_type": "code",
        "colab": {}
      },
      "source": [
        "from sklearn import metrics\n",
        "from sklearn.metrics import f1_score\n",
        "print('sensitivity =',TP/(TP+FN))\n",
        "print(metrics.recall_score(test_set.classes, y_pred))\n",
        "recall=metrics.recall_score(test_set.classes, y_pred)\n",
        "print('specificity =',TN/(TN+FP))\n",
        "print('F1_score = ',f1_score(test_set.classes,y_pred))\n",
        "#print('F1_score = ',2*((metrics.precision_score(test_set.classes, y_pred)*recall)/(metrics.precision_score(test_set.classes, y_pred)+recall)))"
      ],
      "execution_count": 0,
      "outputs": []
    },
    {
      "cell_type": "code",
      "metadata": {
        "id": "NdR-w-DTIM4U",
        "colab_type": "code",
        "colab": {}
      },
      "source": [
        "history.history"
      ],
      "execution_count": 0,
      "outputs": []
    },
    {
      "cell_type": "code",
      "metadata": {
        "id": "Jo8FYk0DIN3w",
        "colab_type": "code",
        "colab": {}
      },
      "source": [
        "classifier.metrics_names"
      ],
      "execution_count": 0,
      "outputs": []
    },
    {
      "cell_type": "code",
      "metadata": {
        "id": "9575E9w6IRXo",
        "colab_type": "code",
        "colab": {}
      },
      "source": [
        "import matplotlib.pyplot as plt\n",
        "\n",
        "\n",
        "\n",
        "loss = history.history['loss']\n",
        "val_loss = history.history['val_loss']\n",
        "\n",
        "\n",
        "acc = history.history['acc']\n",
        "val_acc = history.history['val_acc']\n",
        "\n",
        "\n",
        "\n",
        "epochs = range(len(loss))\n",
        "\n",
        "plt.figure()\n",
        "plt.plot(epochs, acc, 'bo', label='Training acc')\n",
        "plt.plot(epochs, val_acc, 'b', label='Validation acc')\n",
        "plt.title('Training and validation loss')\n",
        "plt.legend()\n",
        "\n",
        "plt.show()\n",
        "\n",
        "plt.figure()\n",
        "plt.plot(epochs, loss, 'bo', label='Training loss')\n",
        "plt.plot(epochs, val_loss, 'b', label='Validation loss')\n",
        "plt.title('Training and validation loss')\n",
        "plt.legend()\n",
        "\n",
        "plt.show()"
      ],
      "execution_count": 0,
      "outputs": []
    }
  ]
}