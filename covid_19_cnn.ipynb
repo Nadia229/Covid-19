{
  "nbformat": 4,
  "nbformat_minor": 0,
  "metadata": {
    "colab": {
      "name": "covid-19 cnn.ipynb",
      "provenance": [],
      "collapsed_sections": [],
      "toc_visible": true
    },
    "kernelspec": {
      "name": "python3",
      "display_name": "Python 3"
    },
    "accelerator": "GPU"
  },
  "cells": [
    {
      "cell_type": "code",
      "metadata": {
        "id": "t6qYhKZz2ANS",
        "colab_type": "code",
        "outputId": "34ebba06-c272-4add-af8a-ea3429bb1c57",
        "colab": {
          "base_uri": "https://localhost:8080/",
          "height": 34
        }
      },
      "source": [
        "from google.colab import drive\n",
        "drive.mount('/content/gdrive')"
      ],
      "execution_count": 0,
      "outputs": [
        {
          "output_type": "stream",
          "text": [
            "Drive already mounted at /content/gdrive; to attempt to forcibly remount, call drive.mount(\"/content/gdrive\", force_remount=True).\n"
          ],
          "name": "stdout"
        }
      ]
    },
    {
      "cell_type": "code",
      "metadata": {
        "id": "FWLh1mqk3bEo",
        "colab_type": "code",
        "outputId": "657933ac-c3ec-4838-8caf-8c73060e7c81",
        "colab": {
          "base_uri": "https://localhost:8080/",
          "height": 34
        }
      },
      "source": [
        "import numpy as np # linear algebra\n",
        "import cv2\n",
        "\n",
        "import os\n",
        "import random\n",
        "import pickle\n",
        "import matplotlib.pyplot as plt\n",
        "\n",
        "from sklearn.model_selection import train_test_split\n",
        "import tensorflow as tf\n",
        "from tensorflow.keras.layers import (\n",
        "    Conv2D, MaxPooling2D, \n",
        "    Dense, Dropout, \n",
        "    Flatten)\n",
        "from tensorflow.keras.models import Sequential\n",
        "from tensorflow.keras.preprocessing.image import ImageDataGenerator\n",
        "print(os.listdir(\"/content/gdrive/My Drive/covid-chestxray-dataset-master/covid-chestxray-dataset-master/data\"))"
      ],
      "execution_count": 0,
      "outputs": [
        {
          "output_type": "stream",
          "text": [
            "['covid', 'non_covid']\n"
          ],
          "name": "stdout"
        }
      ]
    },
    {
      "cell_type": "code",
      "metadata": {
        "id": "Jq5DbAxZ3sgH",
        "colab_type": "code",
        "colab": {}
      },
      "source": [
        "IMG_SIZE = 128"
      ],
      "execution_count": 0,
      "outputs": []
    },
    {
      "cell_type": "code",
      "metadata": {
        "id": "-0sGXMFs3_WM",
        "colab_type": "code",
        "colab": {}
      },
      "source": [
        "CATEGORIES = ['covid', 'non_covid']\n",
        "dataset = []\n",
        "\n",
        "def generate_data():\n",
        "    for category in CATEGORIES:\n",
        "        path = f'/content/gdrive/My Drive/covid-chestxray-dataset-master/covid-chestxray-dataset-master/data/{category}'\n",
        "        class_id = CATEGORIES.index(category)\n",
        "        for image in os.listdir(path):\n",
        "            try:\n",
        "                image_array = cv2.imread(os.path.join(path, image), cv2.IMREAD_COLOR)\n",
        "                image_array = cv2.resize(image_array, (IMG_SIZE , IMG_SIZE))\n",
        "                dataset.append([image_array, class_id])\n",
        "            except Exception as e:\n",
        "                print(e)\n",
        "    random.shuffle(dataset)\n",
        "                \n",
        "generate_data()\n"
      ],
      "execution_count": 0,
      "outputs": []
    },
    {
      "cell_type": "code",
      "metadata": {
        "id": "aUyDCUW5yziu",
        "colab_type": "code",
        "outputId": "87d07a4d-38de-440f-9bf8-e44f8bbfff0d",
        "colab": {
          "base_uri": "https://localhost:8080/",
          "height": 34
        }
      },
      "source": [
        "print(len(dataset))"
      ],
      "execution_count": 0,
      "outputs": [
        {
          "output_type": "stream",
          "text": [
            "162\n"
          ],
          "name": "stdout"
        }
      ]
    },
    {
      "cell_type": "code",
      "metadata": {
        "id": "prMtR6Fmy5ix",
        "colab_type": "code",
        "colab": {}
      },
      "source": [
        "data = []\n",
        "labels = []\n",
        "for features, label in dataset:\n",
        "    data.append(features)\n",
        "    labels.append(label)"
      ],
      "execution_count": 0,
      "outputs": []
    },
    {
      "cell_type": "code",
      "metadata": {
        "id": "Vf7sLsVK4OyS",
        "colab_type": "code",
        "colab": {}
      },
      "source": [
        "data = np.array(data)\n",
        "data.reshape(-1, 128, 128, 3)"
      ],
      "execution_count": 0,
      "outputs": []
    },
    {
      "cell_type": "code",
      "metadata": {
        "id": "LWg3Ya032p4W",
        "colab_type": "code",
        "colab": {}
      },
      "source": [
        "pickle.dump(data, open(\"data1.pickle\", \"wb\"))\n",
        "\n",
        "pickle.dump(labels, open(\"labels1.pickle\", \"wb\"))"
      ],
      "execution_count": 0,
      "outputs": []
    },
    {
      "cell_type": "code",
      "metadata": {
        "id": "KlUPVqXS2rbc",
        "colab_type": "code",
        "colab": {}
      },
      "source": [
        "data = pickle.load(open(\"data1.pickle\", \"rb\"))\n",
        "\n",
        "labels = pickle.load(open(\"labels1.pickle\", \"rb\"))"
      ],
      "execution_count": 0,
      "outputs": []
    },
    {
      "cell_type": "code",
      "metadata": {
        "id": "fMQ8IR9ey-hP",
        "colab_type": "code",
        "colab": {}
      },
      "source": [
        "train_data, data, train_labels, labels = train_test_split(data, \n",
        "                                                          labels,\n",
        "                                                          test_size=0.15)\n",
        "test_data, validation_data, test_labels, validation_labels = train_test_split(data, \n",
        "                                                                    labels,\n",
        "                                                                   test_size=0.7)\n",
        "  "
      ],
      "execution_count": 0,
      "outputs": []
    },
    {
      "cell_type": "code",
      "metadata": {
        "id": "AS2XfmAozEkz",
        "colab_type": "code",
        "outputId": "d7f95d80-c692-455e-bd6f-4ffa51c86a3f",
        "colab": {
          "base_uri": "https://localhost:8080/",
          "height": 251
        }
      },
      "source": [
        "plt.figure(figsize=(10, 10))\n",
        "i = 0\n",
        "for i in range(len(test_data)):\n",
        "    plt.subplot(5, 5, i+1)\n",
        "    plt.xticks([])\n",
        "    plt.yticks([])\n",
        "    plt.imshow(test_data[i])\n",
        "    if(test_labels[i] == 0):\n",
        "        plt.xlabel('Infected')\n",
        "    else:\n",
        "        plt.xlabel('Uninfected')\n",
        "    i += 1\n",
        "plt.show()"
      ],
      "execution_count": 0,
      "outputs": [
        {
          "output_type": "display_data",
          "data": {
            "image/png": "[encoded data removed]",
            "text/plain": [
              "<Figure size 720x720 with 7 Axes>"
            ]
          },
          "metadata": {
            "tags": []
          }
        }
      ]
    },
    {
      "cell_type": "code",
      "metadata": {
        "id": "Zmm_Q3bV4t7V",
        "colab_type": "code",
        "colab": {}
      },
      "source": [
        "datagen_train = ImageDataGenerator(rescale=1./255,\n",
        "                            rotation_range=45,\n",
        "                            width_shift_range=0.2,\n",
        "                            height_shift_range=0.2,\n",
        "                            shear_range=0.2,\n",
        "                            zoom_range=0.2,\n",
        "                            horizontal_flip=True)\n",
        "\n",
        "datagen_test = ImageDataGenerator(rescale=1./255)\n",
        "datagen_validation = ImageDataGenerator(rescale=1./255)"
      ],
      "execution_count": 0,
      "outputs": []
    },
    {
      "cell_type": "code",
      "metadata": {
        "id": "lw3RBK2B4zAS",
        "colab_type": "code",
        "colab": {}
      },
      "source": [
        "datagen_train.fit(train_data)\n",
        "datagen_test.fit(test_data)\n",
        "datagen_test.fit(validation_data)"
      ],
      "execution_count": 0,
      "outputs": []
    },
    {
      "cell_type": "code",
      "metadata": {
        "id": "zfElSWF2WRkO",
        "colab_type": "code",
        "colab": {}
      },
      "source": [
        "model = Sequential([\n",
        "    Conv2D(32, (3, 3), activation='relu', input_shape=(IMG_SIZE, IMG_SIZE, 3)),\n",
        "    MaxPooling2D((2, 2)),\n",
        "    \n",
        "    Conv2D(64, (3, 3), activation=\"relu\"),\n",
        "    MaxPooling2D((2, 2)),\n",
        "    \n",
        "    Conv2D(128, (3, 3), activation=\"relu\"),\n",
        "    MaxPooling2D((2, 2)),\n",
        "    \n",
        "    Conv2D(256, (3, 3), activation=\"relu\"),\n",
        "    MaxPooling2D((2, 2)),\n",
        "    \n",
        "    Flatten(),\n",
        "    Dense(256, activation=\"relu\"),\n",
        "    Dense(2, activation='softmax')\n",
        "])"
      ],
      "execution_count": 0,
      "outputs": []
    },
    {
      "cell_type": "code",
      "metadata": {
        "id": "5G2_2tPK5VNi",
        "colab_type": "code",
        "colab": {}
      },
      "source": [
        "model.compile(optimizer='adam',\n",
        "             loss='sparse_categorical_crossentropy',\n",
        "             metrics=['accuracy'])"
      ],
      "execution_count": 0,
      "outputs": []
    },
    {
      "cell_type": "code",
      "metadata": {
        "id": "qcumlNFGH8RK",
        "colab_type": "code",
        "outputId": "4722bb45-a7db-4d84-e9b7-6526ee8b3232",
        "colab": {
          "base_uri": "https://localhost:8080/",
          "height": 521
        }
      },
      "source": [
        "model.summary()"
      ],
      "execution_count": 0,
      "outputs": [
        {
          "output_type": "stream",
          "text": [
            "Model: \"sequential_1\"\n",
            "_________________________________________________________________\n",
            "Layer (type)                 Output Shape              Param #   \n",
            "=================================================================\n",
            "conv2d_4 (Conv2D)            (None, 126, 126, 32)      896       \n",
            "_________________________________________________________________\n",
            "max_pooling2d_4 (MaxPooling2 (None, 63, 63, 32)        0         \n",
            "_________________________________________________________________\n",
            "conv2d_5 (Conv2D)            (None, 61, 61, 64)        18496     \n",
            "_________________________________________________________________\n",
            "max_pooling2d_5 (MaxPooling2 (None, 30, 30, 64)        0         \n",
            "_________________________________________________________________\n",
            "conv2d_6 (Conv2D)            (None, 28, 28, 128)       73856     \n",
            "_________________________________________________________________\n",
            "max_pooling2d_6 (MaxPooling2 (None, 14, 14, 128)       0         \n",
            "_________________________________________________________________\n",
            "conv2d_7 (Conv2D)            (None, 12, 12, 256)       295168    \n",
            "_________________________________________________________________\n",
            "max_pooling2d_7 (MaxPooling2 (None, 6, 6, 256)         0         \n",
            "_________________________________________________________________\n",
            "flatten_1 (Flatten)          (None, 9216)              0         \n",
            "_________________________________________________________________\n",
            "dense_2 (Dense)              (None, 256)               2359552   \n",
            "_________________________________________________________________\n",
            "dense_3 (Dense)              (None, 2)                 514       \n",
            "=================================================================\n",
            "Total params: 2,748,482\n",
            "Trainable params: 2,748,482\n",
            "Non-trainable params: 0\n",
            "_________________________________________________________________\n"
          ],
          "name": "stdout"
        }
      ]
    },
    {
      "cell_type": "code",
      "metadata": {
        "id": "rU8uoPOlIVXP",
        "colab_type": "code",
        "outputId": "d8a0de75-8508-49bb-d344-aefcf24eeb33",
        "colab": {
          "base_uri": "https://localhost:8080/",
          "height": 1000
        }
      },
      "source": [
        "BATCH_SIZE = 32\n",
        "epochs = 30\n",
        "history=model.fit(train_data, y=np.array(train_labels), batch_size=BATCH_SIZE,epochs=epochs,verbose=1,validation_data=(test_data, np.array(test_labels)))\n"
      ],
      "execution_count": 0,
      "outputs": [
        {
          "output_type": "stream",
          "text": [
            "Epoch 1/30\n",
            "5/5 [==============================] - 0s 66ms/step - loss: 113.9182 - accuracy: 0.5474 - val_loss: 1.0089 - val_accuracy: 0.8571\n",
            "Epoch 2/30\n",
            "5/5 [==============================] - 0s 20ms/step - loss: 1.3058 - accuracy: 0.6934 - val_loss: 1.4806 - val_accuracy: 0.8571\n",
            "Epoch 3/30\n",
            "5/5 [==============================] - 0s 19ms/step - loss: 1.4755 - accuracy: 0.8029 - val_loss: 0.5087 - val_accuracy: 0.8571\n",
            "Epoch 4/30\n",
            "5/5 [==============================] - 0s 20ms/step - loss: 0.7352 - accuracy: 0.8540 - val_loss: 0.6759 - val_accuracy: 0.8571\n",
            "Epoch 5/30\n",
            "5/5 [==============================] - 0s 19ms/step - loss: 0.6544 - accuracy: 0.8540 - val_loss: 0.4369 - val_accuracy: 0.8571\n",
            "Epoch 6/30\n",
            "5/5 [==============================] - 0s 18ms/step - loss: 0.4447 - accuracy: 0.8540 - val_loss: 0.3431 - val_accuracy: 0.8571\n",
            "Epoch 7/30\n",
            "5/5 [==============================] - 0s 19ms/step - loss: 0.4276 - accuracy: 0.8540 - val_loss: 0.4193 - val_accuracy: 0.8571\n",
            "Epoch 8/30\n",
            "5/5 [==============================] - 0s 19ms/step - loss: 0.4932 - accuracy: 0.8540 - val_loss: 0.3286 - val_accuracy: 0.8571\n",
            "Epoch 9/30\n",
            "5/5 [==============================] - 0s 20ms/step - loss: 0.3721 - accuracy: 0.8540 - val_loss: 0.3571 - val_accuracy: 0.8571\n",
            "Epoch 10/30\n",
            "5/5 [==============================] - 0s 20ms/step - loss: 0.3515 - accuracy: 0.8540 - val_loss: 0.3853 - val_accuracy: 0.8571\n",
            "Epoch 11/30\n",
            "5/5 [==============================] - 0s 18ms/step - loss: 0.3625 - accuracy: 0.8613 - val_loss: 0.3530 - val_accuracy: 0.8571\n",
            "Epoch 12/30\n",
            "5/5 [==============================] - 0s 18ms/step - loss: 0.2954 - accuracy: 0.8613 - val_loss: 0.3147 - val_accuracy: 0.8571\n",
            "Epoch 13/30\n",
            "5/5 [==============================] - 0s 19ms/step - loss: 0.2642 - accuracy: 0.8759 - val_loss: 0.2374 - val_accuracy: 0.8571\n",
            "Epoch 14/30\n",
            "5/5 [==============================] - 0s 18ms/step - loss: 0.2219 - accuracy: 0.8759 - val_loss: 0.3110 - val_accuracy: 0.8571\n",
            "Epoch 15/30\n",
            "5/5 [==============================] - 0s 18ms/step - loss: 0.2935 - accuracy: 0.8394 - val_loss: 0.3708 - val_accuracy: 0.8571\n",
            "Epoch 16/30\n",
            "5/5 [==============================] - 0s 19ms/step - loss: 0.2298 - accuracy: 0.8759 - val_loss: 0.2529 - val_accuracy: 0.8571\n",
            "Epoch 17/30\n",
            "5/5 [==============================] - 0s 18ms/step - loss: 0.1900 - accuracy: 0.9124 - val_loss: 0.2606 - val_accuracy: 1.0000\n",
            "Epoch 18/30\n",
            "5/5 [==============================] - 0s 19ms/step - loss: 0.2238 - accuracy: 0.9562 - val_loss: 0.2888 - val_accuracy: 0.8571\n",
            "Epoch 19/30\n",
            "5/5 [==============================] - 0s 19ms/step - loss: 0.1633 - accuracy: 0.9562 - val_loss: 0.1294 - val_accuracy: 1.0000\n",
            "Epoch 20/30\n",
            "5/5 [==============================] - 0s 18ms/step - loss: 0.1267 - accuracy: 0.9343 - val_loss: 0.2481 - val_accuracy: 0.8571\n",
            "Epoch 21/30\n",
            "5/5 [==============================] - 0s 18ms/step - loss: 0.1405 - accuracy: 0.9562 - val_loss: 0.8046 - val_accuracy: 0.8571\n",
            "Epoch 22/30\n",
            "5/5 [==============================] - 0s 19ms/step - loss: 0.2415 - accuracy: 0.9343 - val_loss: 0.1631 - val_accuracy: 0.8571\n",
            "Epoch 23/30\n",
            "5/5 [==============================] - 0s 18ms/step - loss: 0.3222 - accuracy: 0.9051 - val_loss: 0.3054 - val_accuracy: 0.8571\n",
            "Epoch 24/30\n",
            "5/5 [==============================] - 0s 18ms/step - loss: 0.2329 - accuracy: 0.8905 - val_loss: 0.2828 - val_accuracy: 0.8571\n",
            "Epoch 25/30\n",
            "5/5 [==============================] - 0s 21ms/step - loss: 0.2110 - accuracy: 0.9270 - val_loss: 0.3652 - val_accuracy: 0.7143\n",
            "Epoch 26/30\n",
            "5/5 [==============================] - 0s 20ms/step - loss: 0.1755 - accuracy: 0.8978 - val_loss: 0.2016 - val_accuracy: 0.8571\n",
            "Epoch 27/30\n",
            "5/5 [==============================] - 0s 20ms/step - loss: 0.1178 - accuracy: 0.9635 - val_loss: 0.1331 - val_accuracy: 1.0000\n",
            "Epoch 28/30\n",
            "5/5 [==============================] - 0s 21ms/step - loss: 0.1229 - accuracy: 0.9635 - val_loss: 0.1540 - val_accuracy: 1.0000\n",
            "Epoch 29/30\n",
            "5/5 [==============================] - 0s 18ms/step - loss: 0.0795 - accuracy: 0.9708 - val_loss: 0.1249 - val_accuracy: 1.0000\n",
            "Epoch 30/30\n",
            "5/5 [==============================] - 0s 18ms/step - loss: 0.0787 - accuracy: 0.9781 - val_loss: 0.1337 - val_accuracy: 1.0000\n"
          ],
          "name": "stdout"
        }
      ]
    },
    {
      "cell_type": "code",
      "metadata": {
        "id": "iP4bDonc5nht",
        "colab_type": "code",
        "outputId": "14617906-552f-48b8-fc72-5ed6f2c70132",
        "colab": {
          "base_uri": "https://localhost:8080/",
          "height": 84
        }
      },
      "source": [
        "accuracy = history.history['accuracy']\n",
        "loss = history.history['loss']\n",
        "val_accuracy = history.history['val_accuracy']\n",
        "val_loss = history.history['val_loss']\n",
        "\n",
        "print(f'Training Accuracy: {np.max(accuracy)}')\n",
        "print(f'Training Loss: {np.min(loss)}')\n",
        "print(f'Validation Accuracy: {np.max(val_accuracy)}')\n",
        "print(f'Validation Loss: {np.min(val_loss)}')"
      ],
      "execution_count": 0,
      "outputs": [
        {
          "output_type": "stream",
          "text": [
            "Training Accuracy: 0.9781022071838379\n",
            "Training Loss: 0.07872577011585236\n",
            "Validation Accuracy: 1.0\n",
            "Validation Loss: 0.12494900077581406\n"
          ],
          "name": "stdout"
        }
      ]
    },
    {
      "cell_type": "code",
      "metadata": {
        "id": "VINMHK6q5tXD",
        "colab_type": "code",
        "colab": {}
      },
      "source": [
        "epochs_range = range(epochs)\n",
        "\n",
        "plt.figure(figsize=(15, 5))\n",
        "plt.subplot(1, 2, 1)\n",
        "plt.xlabel('epochs')\n",
        "plt.ylabel('Accuracy rate')\n",
        "plt.plot(epochs_range, accuracy, label=\"Training Accuracy\")\n",
        "plt.plot(epochs_range, val_accuracy, label=\"Validation Accuracy\")\n",
        "plt.legend(loc=\"upper left\")\n",
        "plt.title(\"Training and Validation Accuracy\")\n",
        "\n",
        "plt.subplot(1, 2, 2)\n",
        "plt.xlabel('epochs')\n",
        "plt.ylabel('loss rate')\n",
        "plt.plot(epochs_range, loss, label=\"Training Loss\")\n",
        "plt.plot(epochs_range, val_loss, label=\"Validation Loss\")\n",
        "plt.legend(loc=\"upper left\")\n",
        "plt.title(\"Training and Validation Loss\")\n",
        "plt.show()"
      ],
      "execution_count": 0,
      "outputs": []
    },
    {
      "cell_type": "code",
      "metadata": {
        "id": "VqzfbULf5yrh",
        "colab_type": "code",
        "colab": {}
      },
      "source": [
        "class_names = ['non_covid', 'covid']\n",
        "def plot_images(i, predictions_array, true_labels, images):\n",
        "    predictions_array, true_label, img = predictions_array[i], true_labels[i],images[i]\n",
        "    plt.grid(False)\n",
        "    plt.xticks([])\n",
        "    plt.yticks([])\n",
        "    \n",
        "    plt.imshow(img)\n",
        "    \n",
        "    predicted_label = np.argmax(predictions_array)\n",
        "        \n",
        "    plt.xlabel(\"{} {:2.0f}% ({})\".format(class_names[predicted_label],\n",
        "                                        100*np.max(predictions_array),\n",
        "                                        class_names[true_label]))"
      ],
      "execution_count": 0,
      "outputs": []
    },
    {
      "cell_type": "code",
      "metadata": {
        "id": "HlIB6v0w58FE",
        "colab_type": "code",
        "colab": {}
      },
      "source": [
        "random.shuffle(test_data)\n",
        "predictions = model.predict(test_data)"
      ],
      "execution_count": 0,
      "outputs": []
    },
    {
      "cell_type": "code",
      "metadata": {
        "id": "E0oqgbDI6Bol",
        "colab_type": "code",
        "colab": {}
      },
      "source": [
        "num_rows = 8\n",
        "num_cols = 6\n",
        "num_images = num_rows * num_cols\n",
        "plt.figure(figsize=(2*2*num_cols, 2*num_rows))\n",
        "for i in range(len(test_data)):\n",
        "    plt.subplot(num_rows, 2*num_cols, 2*i+1)\n",
        "    plot_images(i, predictions, test_labels, test_data)"
      ],
      "execution_count": 0,
      "outputs": []
    },
    {
      "cell_type": "code",
      "metadata": {
        "id": "NZgucVM_6Pbs",
        "colab_type": "code",
        "outputId": "70005bbe-f730-4afd-adfa-f63f66bc7bfd",
        "colab": {
          "base_uri": "https://localhost:8080/",
          "height": 521
        }
      },
      "source": [
        "model.summary( )"
      ],
      "execution_count": 0,
      "outputs": [
        {
          "output_type": "stream",
          "text": [
            "Model: \"sequential_1\"\n",
            "_________________________________________________________________\n",
            "Layer (type)                 Output Shape              Param #   \n",
            "=================================================================\n",
            "conv2d_4 (Conv2D)            (None, 126, 126, 32)      896       \n",
            "_________________________________________________________________\n",
            "max_pooling2d_4 (MaxPooling2 (None, 63, 63, 32)        0         \n",
            "_________________________________________________________________\n",
            "conv2d_5 (Conv2D)            (None, 61, 61, 64)        18496     \n",
            "_________________________________________________________________\n",
            "max_pooling2d_5 (MaxPooling2 (None, 30, 30, 64)        0         \n",
            "_________________________________________________________________\n",
            "conv2d_6 (Conv2D)            (None, 28, 28, 128)       73856     \n",
            "_________________________________________________________________\n",
            "max_pooling2d_6 (MaxPooling2 (None, 14, 14, 128)       0         \n",
            "_________________________________________________________________\n",
            "conv2d_7 (Conv2D)            (None, 12, 12, 256)       295168    \n",
            "_________________________________________________________________\n",
            "max_pooling2d_7 (MaxPooling2 (None, 6, 6, 256)         0         \n",
            "_________________________________________________________________\n",
            "flatten_1 (Flatten)          (None, 9216)              0         \n",
            "_________________________________________________________________\n",
            "dense_2 (Dense)              (None, 256)               2359552   \n",
            "_________________________________________________________________\n",
            "dense_3 (Dense)              (None, 2)                 514       \n",
            "=================================================================\n",
            "Total params: 2,748,482\n",
            "Trainable params: 2,748,482\n",
            "Non-trainable params: 0\n",
            "_________________________________________________________________\n"
          ],
          "name": "stdout"
        }
      ]
    },
    {
      "cell_type": "code",
      "metadata": {
        "id": "rhICSWGa7yOP",
        "colab_type": "code",
        "outputId": "0690ad35-bcba-41ef-aa53-eb128a360056",
        "colab": {
          "base_uri": "https://localhost:8080/",
          "height": 50
        }
      },
      "source": [
        "loss , accuracy = model.evaluate( test_data , np.array(test_labels) )\n",
        "print( \"Loss of {}\".format( loss ) , \"Accuracy of {} %\".format( accuracy * 100 ) )"
      ],
      "execution_count": 0,
      "outputs": [
        {
          "output_type": "stream",
          "text": [
            "1/1 [==============================] - 0s 1ms/step - loss: 1.3742 - accuracy: 0.8571\n",
            "Loss of 1.3741885423660278 Accuracy of 85.71428656578064 %\n"
          ],
          "name": "stdout"
        }
      ]
    },
    {
      "cell_type": "code",
      "metadata": {
        "id": "S9iuSmbQ6Kmh",
        "colab_type": "code",
        "outputId": "d3b9b81c-59fe-4640-fd21-545e0ee0b05a",
        "colab": {
          "base_uri": "https://localhost:8080/",
          "height": 34
        }
      },
      "source": [
        "pred=model.predict( test_data).argmax( axis=1 ) \n",
        "print ( pred )"
      ],
      "execution_count": 0,
      "outputs": [
        {
          "output_type": "stream",
          "text": [
            "[0 0 0 0 0 0 0]\n"
          ],
          "name": "stdout"
        }
      ]
    },
    {
      "cell_type": "code",
      "metadata": {
        "id": "ugy9CDND8btA",
        "colab_type": "code",
        "outputId": "9479bc59-ba18-4242-9fbe-4c893cb3964a",
        "colab": {
          "base_uri": "https://localhost:8080/",
          "height": 50
        }
      },
      "source": [
        "from sklearn.metrics import f1_score\n",
        "from sklearn import metrics\n",
        "from sklearn.metrics import plot_confusion_matrix\n",
        "print('F1_score : ',f1_score(test_labels,pred))\n",
        "print('sensitibity : ',metrics.recall_score(test_labels, pred))"
      ],
      "execution_count": 0,
      "outputs": [
        {
          "output_type": "stream",
          "text": [
            "F1_score :  0.0\n",
            "sensitibity :  0.0\n"
          ],
          "name": "stdout"
        }
      ]
    },
    {
      "cell_type": "code",
      "metadata": {
        "id": "wbVtTG02aawI",
        "colab_type": "code",
        "outputId": "13e56886-e152-48e4-b842-ee12fc2b3a44",
        "colab": {
          "base_uri": "https://localhost:8080/",
          "height": 222
        }
      },
      "source": [
        "from sklearn.metrics import classification_report\n",
        "print(classification_report(test_labels, pred))"
      ],
      "execution_count": 0,
      "outputs": [
        {
          "output_type": "stream",
          "text": [
            "              precision    recall  f1-score   support\n",
            "\n",
            "           0       0.86      1.00      0.92         6\n",
            "           1       0.00      0.00      0.00         1\n",
            "\n",
            "    accuracy                           0.86         7\n",
            "   macro avg       0.43      0.50      0.46         7\n",
            "weighted avg       0.73      0.86      0.79         7\n",
            "\n"
          ],
          "name": "stdout"
        },
        {
          "output_type": "stream",
          "text": [
            "/usr/local/lib/python3.6/dist-packages/sklearn/metrics/_classification.py:1272: UndefinedMetricWarning: Precision and F-score are ill-defined and being set to 0.0 in labels with no predicted samples. Use `zero_division` parameter to control this behavior.\n",
            "  _warn_prf(average, modifier, msg_start, len(result))\n"
          ],
          "name": "stderr"
        }
      ]
    },
    {
      "cell_type": "code",
      "metadata": {
        "id": "AhdwAqh0c9aF",
        "colab_type": "code",
        "outputId": "b9b19585-f92d-4d5c-a395-12f4a8ce4881",
        "colab": {
          "base_uri": "https://localhost:8080/",
          "height": 350
        }
      },
      "source": [
        "from sklearn.metrics import roc_curve,roc_auc_score\n",
        "import matplotlib.pyplot as plt\n",
        "from sklearn.metrics import matthews_corrcoef\n",
        "\n",
        "fpr , tpr , thresholds = roc_curve (test_labels,pred)\n",
        "plot_roc_curve (fpr,tpr)\n",
        "auc_score=roc_auc_score(test_labels,pred) \n",
        "print(auc_score) \n",
        "print(matthews_corrcoef(test_labels,pred))"
      ],
      "execution_count": 0,
      "outputs": [
        {
          "output_type": "display_data",
          "data": {
            "image/png": "[encoded data removed]",
            "text/plain": [
              "<Figure size 432x288 with 1 Axes>"
            ]
          },
          "metadata": {
            "tags": []
          }
        },
        {
          "output_type": "stream",
          "text": [
            "0.5\n",
            "0.0\n"
          ],
          "name": "stdout"
        },
        {
          "output_type": "stream",
          "text": [
            "/usr/local/lib/python3.6/dist-packages/sklearn/metrics/_classification.py:900: RuntimeWarning: invalid value encountered in double_scalars\n",
            "  mcc = cov_ytyp / np.sqrt(cov_ytyt * cov_ypyp)\n"
          ],
          "name": "stderr"
        }
      ]
    },
    {
      "cell_type": "code",
      "metadata": {
        "id": "M5n3wl_MdILA",
        "colab_type": "code",
        "colab": {}
      },
      "source": [
        "def plot_roc_curve(fpr,tpr): \n",
        "  plt.plot(fpr,tpr) \n",
        "  plt.axis([0,1,0,1]) \n",
        "  plt.xlabel('False Positive Rate') \n",
        "  plt.ylabel('True Positive Rate') \n",
        "  plt.show() "
      ],
      "execution_count": 0,
      "outputs": []
    }
  ]
}